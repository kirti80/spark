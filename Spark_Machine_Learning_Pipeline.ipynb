{
 "cells": [
  {
   "cell_type": "markdown",
   "id": "2160c75d",
   "metadata": {},
   "source": [
    " ### Spark Machine Learning Pipeline:\n",
    " -  ML Pipelines provide a uniform set of high-level APIs built on top of DataFrames that help users create and tune practical machine learning pipelines."
   ]
  },
  {
   "cell_type": "markdown",
   "id": "043e0de2",
   "metadata": {},
   "source": [
    "####  Main concepts in pipeline\n",
    "  - MLlib standardizes APIs for machine learning algorithms to make it easier to combine multiple algorithms into a single pipeline, or workflow.\n",
    "  - Mostly inspired by the **scikit-learn** project.\n",
    "  - Dataframe\n",
    "    - This ML API uses DataFrame from Spark SQL as an ML dataset, which can hold a variety of data types. E.g., a DataFrame could have different columns storing text, feature vectors, true labels, and predictions.\n",
    "    - vectors, text, images, and structured data\n",
    "    - Created either implicitly or explicitly from a regular RDD.\n",
    "  - Transformer\n",
    "     - A Transformer is an algorithm which can transform one DataFrame into another DataFrame. E.g., an ML model is a Transformer which transforms a DataFrame with features into a DataFrame with predictions.\n",
    "  - Estimator\n",
    "    - An Estimator is an algorithm which can be fit on a DataFrame to produce a Transformer. E.g., a learning algorithm is an Estimator which trains on a DataFrame and produces a model.\n",
    "  - Pipeline\n",
    "    - A Pipeline chains multiple Transformers and Estimators together to specify an ML workflow. \n",
    "  - parameter\n",
    "     - All Transformers and Estimators now share a common API for specifying parameters.\n"
   ]
  },
  {
   "cell_type": "markdown",
   "id": "19fe0055",
   "metadata": {},
   "source": [
    "#### Components of pipeline:\n",
    "- Transformer\n",
    "   - An abstraction that includes feature transformers and learned models. \n",
    "   - Implements a method transform()\n",
    "   - Converts one DataFrame into another, generally by appending one or more columns. \n",
    "   - A feature transformer might take a DataFrame, read a column (e.g., text), map it into a new column (e.g., feature vectors), and output a new DataFrame with the mapped column appended.\n",
    "   - A learning model might take a DataFrame, read the column containing feature vectors, predict the label for each feature vector, and output a new DataFrame with predicted labels appended as a column\n",
    "- Estimator\n",
    "   - Concept of a learning algorithm or any algorithm that fits or trains on data. \n",
    "   - Implements a method fit()\n",
    "   - Accepts a DataFrame and produces a Model, which is a Transformer.\n",
    "   - A learning algorithm such as LogisticRegression is an Estimator, and calling fit() trains a LogisticRegressionModel, which is a Model and hence a Transformer."
   ]
  },
  {
   "cell_type": "markdown",
   "id": "76f34f59",
   "metadata": {},
   "source": [
    "#### Properties of components\n",
    "- Transformer.transform()s and Estimator.fit()s are both stateless. In the future, stateful algorithms may be supported via alternative concepts.\n",
    "- Each instance of a Transformer or Estimator has a unique ID, which is useful in specifying parameters."
   ]
  },
  {
   "cell_type": "markdown",
   "id": "7a931b18",
   "metadata": {},
   "source": [
    "#### Pipeline:\n",
    "- In machine learning, it is common to run a sequence of algorithms to process and learn from data.\n",
    "- E.g., a simple text document processing workflow might include several stages:\n",
    "    - Split each document’s text into words.\n",
    "    - Convert each document’s words into a numerical feature vector.\n",
    "    - Learn a prediction model using the feature vectors and labels.\n",
    "- This process of workflow is called pipeline   \n",
    "- A sequence of PipelineStages (Transformers and Estimators) to be run in a specific order. "
   ]
  },
  {
   "cell_type": "markdown",
   "id": "35675cfa",
   "metadata": {},
   "source": [
    "#### Parameters:\n",
    "- A Param is a named parameter with self-contained documentation. A ParamMap is a set of (parameter, value) pairs.\n",
    "- Set parameters for an instance. E.g., if lr is an instance of LogisticRegression, one could call lr.setMaxIter(10) to make lr.fit() use at most 10 iterations. This API resembles the API used in spark.mllib package.\n",
    "- Pass a ParamMap to fit() or transform(). Any parameters in the ParamMap will override parameters previously specified via setter methods.\n",
    "- Parameters belong to specific instances of Estimators and Transformers. "
   ]
  },
  {
   "cell_type": "markdown",
   "id": "e95e19c3",
   "metadata": {},
   "source": [
    "#### How does it work?\n",
    "- A Pipeline is specified as a sequence of stages, and each stage is either a Transformer or an Estimator. \n",
    "- These stages are run in order, and the input DataFrame is transformed as it passes through each stage. \n",
    "- For Transformer stages, the transform() method is called on the DataFrame. \n",
    "- For Estimator stages, the fit() method is called to produce a Transformer (which becomes part of the PipelineModel, or fitted Pipeline), and that Transformer’s transform() method is called on the DataFrame.\n",
    "- Pipelines and PipelineModels help to ensure that training and test data go through identical feature processing steps.\n",
    "- "
   ]
  },
  {
   "cell_type": "code",
   "execution_count": 1,
   "id": "46307bdc",
   "metadata": {},
   "outputs": [
    {
     "name": "stderr",
     "output_type": "stream",
     "text": [
      "WARNING:root:'PYARROW_IGNORE_TIMEZONE' environment variable was not set. It is required to set this environment variable to '1' in both driver and executor sides if you use pyarrow>=2.0.0. pandas-on-Spark will set it for you but it does not work if there is a Spark context already launched.\n"
     ]
    }
   ],
   "source": [
    "from pyspark.sql import SparkSession\n",
    "from pyspark import SparkContext,SparkConf\n",
    "import time,os\n",
    "from pyspark.sql.types import *\n",
    "from pyspark.sql.functions import *\n",
    "import pandas as pd\n",
    "import numpy as np\n",
    "import seaborn as sns\n",
    "import matplotlib.pyplot as plt\n",
    "import pyspark.pandas as ps\n",
    "from pyspark.ml.feature import VectorAssembler\n",
    "from pyspark.ml import Pipeline"
   ]
  },
  {
   "cell_type": "code",
   "execution_count": 2,
   "id": "125198cb",
   "metadata": {},
   "outputs": [
    {
     "name": "stderr",
     "output_type": "stream",
     "text": [
      "Setting default log level to \"WARN\".\n",
      "To adjust logging level use sc.setLogLevel(newLevel). For SparkR, use setLogLevel(newLevel).\n"
     ]
    },
    {
     "name": "stdout",
     "output_type": "stream",
     "text": [
      "23/05/01 10:31:05 WARN NativeCodeLoader: Unable to load native-hadoop library for your platform... using builtin-java classes where applicable\n"
     ]
    }
   ],
   "source": [
    "# Create Spark Session\n",
    "conf=SparkConf()\n",
    "sc=SparkContext(conf=conf)\n",
    "\n",
    "# Stop default sc\n",
    "sc.stop()\n",
    "spark = SparkSession \\\n",
    "    .builder \\\n",
    "    .master(\"spark://Kirtis-MacBook-Pro.local:7077\") \\\n",
    "    .appName(\"Spark_Machine_learning\") \\\n",
    "    .config(\"spark.executor.memory\",'2g') \\\n",
    "    .getOrCreate()\n"
   ]
  },
  {
   "cell_type": "code",
   "execution_count": 3,
   "id": "586336d1",
   "metadata": {},
   "outputs": [
    {
     "data": {
      "text/html": [
       "\n",
       "            <div>\n",
       "                <p><b>SparkSession - in-memory</b></p>\n",
       "                \n",
       "        <div>\n",
       "            <p><b>SparkContext</b></p>\n",
       "\n",
       "            <p><a href=\"http://192.168.1.15:4040\">Spark UI</a></p>\n",
       "\n",
       "            <dl>\n",
       "              <dt>Version</dt>\n",
       "                <dd><code>v3.3.0</code></dd>\n",
       "              <dt>Master</dt>\n",
       "                <dd><code>spark://Kirtis-MacBook-Pro.local:7077</code></dd>\n",
       "              <dt>AppName</dt>\n",
       "                <dd><code>Spark_Machine_learning</code></dd>\n",
       "            </dl>\n",
       "        </div>\n",
       "        \n",
       "            </div>\n",
       "        "
      ],
      "text/plain": [
       "<pyspark.sql.session.SparkSession at 0x7fb5a9d278b0>"
      ]
     },
     "execution_count": 3,
     "metadata": {},
     "output_type": "execute_result"
    }
   ],
   "source": [
    "spark"
   ]
  },
  {
   "cell_type": "code",
   "execution_count": 4,
   "id": "71581601",
   "metadata": {},
   "outputs": [
    {
     "name": "stdout",
     "output_type": "stream",
     "text": [
      "The file at `/Users/Kirtikamerkar/Austincapitaldata/data/influenza-surveillance-jtpkmr/influenza.csv` exists.\n"
     ]
    }
   ],
   "source": [
    "## Verify that we are accessing the data file\n",
    "data_folder = \"/Users/Kirtikamerkar/Austincapitaldata/data\"\n",
    "data_path=data_folder+\"/influenza-surveillance-jtpkmr/influenza.csv\"\n",
    "print(f\"The file at `{data_path}` {'exists' if os.path.isfile(data_path) else 'does NOT exist! Check your path'}.\")"
   ]
  },
  {
   "cell_type": "code",
   "execution_count": 5,
   "id": "b8104432",
   "metadata": {},
   "outputs": [
    {
     "name": "stderr",
     "output_type": "stream",
     "text": [
      "                                                                                \r"
     ]
    }
   ],
   "source": [
    "#Loading influenza data\n",
    "influenza_df=spark.read.csv(data_path,inferSchema = True,header=True)"
   ]
  },
  {
   "cell_type": "code",
   "execution_count": 6,
   "id": "e70e9ddf",
   "metadata": {},
   "outputs": [
    {
     "name": "stdout",
     "output_type": "stream",
     "text": [
      "+---------+---------+----------+--------------+-----------------+---------------+----------------+----------------+\n",
      "|   season|date_code|weekending|        region|Respiratory_Virus|Number_Positive|Specimens_Tested|Percent_Positive|\n",
      "+---------+---------+----------+--------------+-----------------+---------------+----------------+----------------+\n",
      "|2009-2010|   200940|  10/10/09|      Bay Area|      Influenza_A|             36|             220|           16.36|\n",
      "|2009-2010|   200940|  10/10/09|      Bay Area|      Influenza_B|              0|             220|             0.0|\n",
      "|2009-2010|   200940|  10/10/09|      Bay Area|  Total_Influenza|             36|             220|           16.36|\n",
      "|2009-2010|   200940|  10/10/09|      Bay Area|              RSV|              0|             190|             0.0|\n",
      "|2009-2010|   200940|  10/10/09|    California|      Influenza_A|           1077|            3324|            32.4|\n",
      "|2009-2010|   200940|  10/10/09|    California|      Influenza_B|              3|            3324|            0.09|\n",
      "|2009-2010|   200940|  10/10/09|    California|  Total_Influenza|           1080|            3324|           32.49|\n",
      "|2009-2010|   200940|  10/10/09|    California|              RSV|              2|            2218|            0.09|\n",
      "|2009-2010|   200940|  10/10/09|       Central|      Influenza_A|            202|             787|           25.67|\n",
      "|2009-2010|   200940|  10/10/09|       Central|      Influenza_B|              1|             787|            0.13|\n",
      "|2009-2010|   200940|  10/10/09|       Central|  Total_Influenza|            203|             787|           25.79|\n",
      "|2009-2010|   200940|  10/10/09|       Central|              RSV|              0|             329|             0.0|\n",
      "|2009-2010|   200940|  10/10/09|Lower Southern|      Influenza_A|             21|             150|            14.0|\n",
      "|2009-2010|   200940|  10/10/09|Lower Southern|      Influenza_B|              0|             150|             0.0|\n",
      "|2009-2010|   200940|  10/10/09|Lower Southern|  Total_Influenza|             21|             150|            14.0|\n",
      "|2009-2010|   200940|  10/10/09|Lower Southern|              RSV|              0|              35|             0.0|\n",
      "|2009-2010|   200940|  10/10/09|      Northern|      Influenza_A|              0|               0|            null|\n",
      "|2009-2010|   200940|  10/10/09|      Northern|      Influenza_B|              0|               0|            null|\n",
      "|2009-2010|   200940|  10/10/09|      Northern|  Total_Influenza|              0|               0|            null|\n",
      "|2009-2010|   200940|  10/10/09|      Northern|              RSV|              0|               0|            null|\n",
      "+---------+---------+----------+--------------+-----------------+---------------+----------------+----------------+\n",
      "only showing top 20 rows\n",
      "\n"
     ]
    }
   ],
   "source": [
    "influenza_df.show()"
   ]
  },
  {
   "cell_type": "code",
   "execution_count": 6,
   "id": "d13586d5",
   "metadata": {},
   "outputs": [
    {
     "data": {
      "text/plain": [
       "['season',\n",
       " 'date_code',\n",
       " 'weekending',\n",
       " 'region',\n",
       " 'Respiratory_Virus',\n",
       " 'Number_Positive',\n",
       " 'Specimens_Tested',\n",
       " 'Percent_Positive']"
      ]
     },
     "execution_count": 6,
     "metadata": {},
     "output_type": "execute_result"
    }
   ],
   "source": [
    "influenza_df.columns"
   ]
  },
  {
   "cell_type": "code",
   "execution_count": 7,
   "id": "7a55a03e",
   "metadata": {},
   "outputs": [
    {
     "name": "stderr",
     "output_type": "stream",
     "text": [
      "                                                                                \r"
     ]
    },
    {
     "data": {
      "text/html": [
       "<div>\n",
       "<style scoped>\n",
       "    .dataframe tbody tr th:only-of-type {\n",
       "        vertical-align: middle;\n",
       "    }\n",
       "\n",
       "    .dataframe tbody tr th {\n",
       "        vertical-align: top;\n",
       "    }\n",
       "\n",
       "    .dataframe thead th {\n",
       "        text-align: right;\n",
       "    }\n",
       "</style>\n",
       "<table border=\"1\" class=\"dataframe\">\n",
       "  <thead>\n",
       "    <tr style=\"text-align: right;\">\n",
       "      <th></th>\n",
       "      <th>date_code</th>\n",
       "      <th>Number_Positive</th>\n",
       "      <th>Specimens_Tested</th>\n",
       "      <th>Percent_Positive</th>\n",
       "    </tr>\n",
       "  </thead>\n",
       "  <tbody>\n",
       "    <tr>\n",
       "      <th>count</th>\n",
       "      <td>50011.000000</td>\n",
       "      <td>50011.000000</td>\n",
       "      <td>50011.000000</td>\n",
       "      <td>42414.000000</td>\n",
       "    </tr>\n",
       "    <tr>\n",
       "      <th>mean</th>\n",
       "      <td>201658.047570</td>\n",
       "      <td>20.653936</td>\n",
       "      <td>351.877027</td>\n",
       "      <td>3.943707</td>\n",
       "    </tr>\n",
       "    <tr>\n",
       "      <th>std</th>\n",
       "      <td>263.947403</td>\n",
       "      <td>91.746507</td>\n",
       "      <td>611.778964</td>\n",
       "      <td>7.121999</td>\n",
       "    </tr>\n",
       "    <tr>\n",
       "      <th>min</th>\n",
       "      <td>200940.000000</td>\n",
       "      <td>0.000000</td>\n",
       "      <td>0.000000</td>\n",
       "      <td>0.000000</td>\n",
       "    </tr>\n",
       "    <tr>\n",
       "      <th>25%</th>\n",
       "      <td>201507.000000</td>\n",
       "      <td>0.000000</td>\n",
       "      <td>40.000000</td>\n",
       "      <td>0.000000</td>\n",
       "    </tr>\n",
       "    <tr>\n",
       "      <th>50%</th>\n",
       "      <td>201707.000000</td>\n",
       "      <td>1.000000</td>\n",
       "      <td>133.000000</td>\n",
       "      <td>0.710000</td>\n",
       "    </tr>\n",
       "    <tr>\n",
       "      <th>75%</th>\n",
       "      <td>201849.000000</td>\n",
       "      <td>7.000000</td>\n",
       "      <td>402.000000</td>\n",
       "      <td>4.550000</td>\n",
       "    </tr>\n",
       "    <tr>\n",
       "      <th>max</th>\n",
       "      <td>202039.000000</td>\n",
       "      <td>3120.000000</td>\n",
       "      <td>8013.000000</td>\n",
       "      <td>100.000000</td>\n",
       "    </tr>\n",
       "  </tbody>\n",
       "</table>\n",
       "</div>"
      ],
      "text/plain": [
       "           date_code  Number_Positive  Specimens_Tested  Percent_Positive\n",
       "count   50011.000000     50011.000000      50011.000000      42414.000000\n",
       "mean   201658.047570        20.653936        351.877027          3.943707\n",
       "std       263.947403        91.746507        611.778964          7.121999\n",
       "min    200940.000000         0.000000          0.000000          0.000000\n",
       "25%    201507.000000         0.000000         40.000000          0.000000\n",
       "50%    201707.000000         1.000000        133.000000          0.710000\n",
       "75%    201849.000000         7.000000        402.000000          4.550000\n",
       "max    202039.000000      3120.000000       8013.000000        100.000000"
      ]
     },
     "execution_count": 7,
     "metadata": {},
     "output_type": "execute_result"
    }
   ],
   "source": [
    "influenza_df.toPandas().describe()"
   ]
  },
  {
   "cell_type": "code",
   "execution_count": 8,
   "id": "dfb76f00",
   "metadata": {},
   "outputs": [
    {
     "name": "stdout",
     "output_type": "stream",
     "text": [
      "root\n",
      " |-- season: string (nullable = true)\n",
      " |-- date_code: integer (nullable = true)\n",
      " |-- weekending: string (nullable = true)\n",
      " |-- region: string (nullable = true)\n",
      " |-- Respiratory_Virus: string (nullable = true)\n",
      " |-- Number_Positive: integer (nullable = true)\n",
      " |-- Specimens_Tested: integer (nullable = true)\n",
      " |-- Percent_Positive: double (nullable = true)\n",
      "\n"
     ]
    }
   ],
   "source": [
    "influenza_df.printSchema()"
   ]
  },
  {
   "cell_type": "code",
   "execution_count": 9,
   "id": "5cf4291e",
   "metadata": {},
   "outputs": [],
   "source": [
    "#Renaming Column names\n",
    "from pyspark.sql.functions import *\n",
    "influenza_df=influenza_df.withColumnRenamed(\"season\",\"Season\").withColumnRenamed(\"date_code\",\"Date_Code\").withColumnRenamed('weekending',\"Weekending\").withColumnRenamed(\"region\",\"Region\").withColumn('Respiratory_Virus',col('Respiratory_Virus')).withColumn(\"Number_Positive\",col(\"Number_Positive\")).withColumn(\"Specimens_Tested\",col(\"Specimens_Tested\")).withColumn(\"Percent_Positive\",col(\"Percent_Positive\"))"
   ]
  },
  {
   "cell_type": "code",
   "execution_count": 10,
   "id": "bbd532c3",
   "metadata": {},
   "outputs": [
    {
     "name": "stdout",
     "output_type": "stream",
     "text": [
      "+---------+---------+----------+----------+-----------------+---------------+----------------+----------------+\n",
      "|   Season|Date_Code|Weekending|    Region|Respiratory_Virus|Number_Positive|Specimens_Tested|Percent_Positive|\n",
      "+---------+---------+----------+----------+-----------------+---------------+----------------+----------------+\n",
      "|2009-2010|   200940|  10/10/09|  Bay Area|      Influenza_A|             36|             220|           16.36|\n",
      "|2009-2010|   200940|  10/10/09|  Bay Area|      Influenza_B|              0|             220|             0.0|\n",
      "|2009-2010|   200940|  10/10/09|  Bay Area|  Total_Influenza|             36|             220|           16.36|\n",
      "|2009-2010|   200940|  10/10/09|  Bay Area|              RSV|              0|             190|             0.0|\n",
      "|2009-2010|   200940|  10/10/09|California|      Influenza_A|           1077|            3324|            32.4|\n",
      "+---------+---------+----------+----------+-----------------+---------------+----------------+----------------+\n",
      "only showing top 5 rows\n",
      "\n"
     ]
    }
   ],
   "source": [
    "influenza_df.show(5)"
   ]
  },
  {
   "cell_type": "markdown",
   "id": "7fd8ae4b",
   "metadata": {},
   "source": [
    "#### Cleaning Data:"
   ]
  },
  {
   "cell_type": "code",
   "execution_count": 11,
   "id": "bc05391f",
   "metadata": {},
   "outputs": [],
   "source": [
    "#Replacing all Nan values with zero\n",
    "influenza_df=influenza_df.fillna(0)"
   ]
  },
  {
   "cell_type": "code",
   "execution_count": 12,
   "id": "c68e897c",
   "metadata": {},
   "outputs": [],
   "source": [
    "#Removing row with row value zero\n",
    "influenza_df=influenza_df.toPandas().loc[~(influenza_df.toPandas()==0).all(axis=1)]"
   ]
  },
  {
   "cell_type": "code",
   "execution_count": 13,
   "id": "a91dd9c2",
   "metadata": {},
   "outputs": [
    {
     "data": {
      "text/plain": [
       "(50011, 8)"
      ]
     },
     "execution_count": 13,
     "metadata": {},
     "output_type": "execute_result"
    }
   ],
   "source": [
    "influenza_df.shape"
   ]
  },
  {
   "cell_type": "code",
   "execution_count": 14,
   "id": "c02f2f08",
   "metadata": {},
   "outputs": [
    {
     "data": {
      "text/html": [
       "<div>\n",
       "<style scoped>\n",
       "    .dataframe tbody tr th:only-of-type {\n",
       "        vertical-align: middle;\n",
       "    }\n",
       "\n",
       "    .dataframe tbody tr th {\n",
       "        vertical-align: top;\n",
       "    }\n",
       "\n",
       "    .dataframe thead th {\n",
       "        text-align: right;\n",
       "    }\n",
       "</style>\n",
       "<table border=\"1\" class=\"dataframe\">\n",
       "  <thead>\n",
       "    <tr style=\"text-align: right;\">\n",
       "      <th></th>\n",
       "      <th>Season</th>\n",
       "      <th>Date_Code</th>\n",
       "      <th>Weekending</th>\n",
       "      <th>Region</th>\n",
       "      <th>Respiratory_Virus</th>\n",
       "      <th>Number_Positive</th>\n",
       "      <th>Specimens_Tested</th>\n",
       "      <th>Percent_Positive</th>\n",
       "    </tr>\n",
       "  </thead>\n",
       "  <tbody>\n",
       "    <tr>\n",
       "      <th>0</th>\n",
       "      <td>2009-2010</td>\n",
       "      <td>200940</td>\n",
       "      <td>10/10/09</td>\n",
       "      <td>Bay Area</td>\n",
       "      <td>Influenza_A</td>\n",
       "      <td>36</td>\n",
       "      <td>220</td>\n",
       "      <td>16.36</td>\n",
       "    </tr>\n",
       "    <tr>\n",
       "      <th>1</th>\n",
       "      <td>2009-2010</td>\n",
       "      <td>200940</td>\n",
       "      <td>10/10/09</td>\n",
       "      <td>Bay Area</td>\n",
       "      <td>Influenza_B</td>\n",
       "      <td>0</td>\n",
       "      <td>220</td>\n",
       "      <td>0.00</td>\n",
       "    </tr>\n",
       "    <tr>\n",
       "      <th>2</th>\n",
       "      <td>2009-2010</td>\n",
       "      <td>200940</td>\n",
       "      <td>10/10/09</td>\n",
       "      <td>Bay Area</td>\n",
       "      <td>Total_Influenza</td>\n",
       "      <td>36</td>\n",
       "      <td>220</td>\n",
       "      <td>16.36</td>\n",
       "    </tr>\n",
       "    <tr>\n",
       "      <th>3</th>\n",
       "      <td>2009-2010</td>\n",
       "      <td>200940</td>\n",
       "      <td>10/10/09</td>\n",
       "      <td>Bay Area</td>\n",
       "      <td>RSV</td>\n",
       "      <td>0</td>\n",
       "      <td>190</td>\n",
       "      <td>0.00</td>\n",
       "    </tr>\n",
       "    <tr>\n",
       "      <th>4</th>\n",
       "      <td>2009-2010</td>\n",
       "      <td>200940</td>\n",
       "      <td>10/10/09</td>\n",
       "      <td>California</td>\n",
       "      <td>Influenza_A</td>\n",
       "      <td>1077</td>\n",
       "      <td>3324</td>\n",
       "      <td>32.40</td>\n",
       "    </tr>\n",
       "  </tbody>\n",
       "</table>\n",
       "</div>"
      ],
      "text/plain": [
       "      Season  Date_Code Weekending      Region Respiratory_Virus  \\\n",
       "0  2009-2010     200940   10/10/09    Bay Area       Influenza_A   \n",
       "1  2009-2010     200940   10/10/09    Bay Area       Influenza_B   \n",
       "2  2009-2010     200940   10/10/09    Bay Area   Total_Influenza   \n",
       "3  2009-2010     200940   10/10/09    Bay Area               RSV   \n",
       "4  2009-2010     200940   10/10/09  California       Influenza_A   \n",
       "\n",
       "   Number_Positive  Specimens_Tested  Percent_Positive  \n",
       "0               36               220             16.36  \n",
       "1                0               220              0.00  \n",
       "2               36               220             16.36  \n",
       "3                0               190              0.00  \n",
       "4             1077              3324             32.40  "
      ]
     },
     "execution_count": 14,
     "metadata": {},
     "output_type": "execute_result"
    }
   ],
   "source": [
    "influenza_df.head()"
   ]
  },
  {
   "cell_type": "code",
   "execution_count": 15,
   "id": "99f3f13e",
   "metadata": {},
   "outputs": [],
   "source": [
    "#stringindex for respiratory_virus\n",
    "influenza_df=spark.createDataFrame(influenza_df)\n",
    "from pyspark.ml.feature import StringIndexer\n",
    "respiratory_virus_indexer = StringIndexer(inputCol=\"Respiratory_Virus\", outputCol=\"Respiratory_Virus_Index\")\n"
   ]
  },
  {
   "cell_type": "code",
   "execution_count": null,
   "id": "1686fc83",
   "metadata": {},
   "outputs": [],
   "source": [
    "#influenza_df=respiratory_virus_indexer.fit(influenza_df).transform(influenza_df)"
   ]
  },
  {
   "cell_type": "code",
   "execution_count": 16,
   "id": "6b50e709",
   "metadata": {},
   "outputs": [],
   "source": [
    "feat_cols=[\"Date_Code\",\"Number_Positive\",\"Specimens_Tested\",\"Percent_Positive\"]\n",
    "#feature_vector=VectorAssembler(inputCols=\"feat_cols\",outputCol=\"feature\")\n",
    "vectorAssembler = VectorAssembler(inputCols = feat_cols, outputCol = 'features')"
   ]
  },
  {
   "cell_type": "code",
   "execution_count": 17,
   "id": "568e740e",
   "metadata": {},
   "outputs": [],
   "source": [
    "from pyspark.ml.classification import LogisticRegression\n",
    "train, test = influenza_df.randomSplit([0.7, 0.3])"
   ]
  },
  {
   "cell_type": "code",
   "execution_count": 18,
   "id": "d3b254c9",
   "metadata": {},
   "outputs": [],
   "source": [
    "lr = LogisticRegression(labelCol=\"Respiratory_Virus_Index\")"
   ]
  },
  {
   "cell_type": "code",
   "execution_count": 19,
   "id": "c10e2046",
   "metadata": {},
   "outputs": [],
   "source": [
    "pipeline1=Pipeline(stages = [respiratory_virus_indexer,vectorAssembler,lr])"
   ]
  },
  {
   "cell_type": "code",
   "execution_count": 19,
   "id": "0b9fc9c0",
   "metadata": {},
   "outputs": [
    {
     "name": "stderr",
     "output_type": "stream",
     "text": [
      "                                                                                \r"
     ]
    },
    {
     "name": "stdout",
     "output_type": "stream",
     "text": [
      "23/04/05 14:30:21 WARN InstanceBuilder$JavaBLAS: Failed to load implementation from:dev.ludovic.netlib.blas.VectorBLAS\n"
     ]
    },
    {
     "name": "stderr",
     "output_type": "stream",
     "text": [
      "                                                                                \r"
     ]
    }
   ],
   "source": [
    "#model=pipeline1.fit(train)"
   ]
  },
  {
   "cell_type": "code",
   "execution_count": 19,
   "id": "08382b5e",
   "metadata": {},
   "outputs": [],
   "source": [
    "# Make predictions on test documents and print columns of interest.\n",
    "#prediction = model.transform(test)"
   ]
  },
  {
   "cell_type": "code",
   "execution_count": 20,
   "id": "8e9efd5b",
   "metadata": {},
   "outputs": [
    {
     "name": "stdout",
     "output_type": "stream",
     "text": [
      "+---------+---------+----------+--------------------+-----------------+---------------+----------------+----------------+-----------------------+--------------------+--------------------+--------------------+----------+\n",
      "|   Season|Date_Code|Weekending|              Region|Respiratory_Virus|Number_Positive|Specimens_Tested|Percent_Positive|Respiratory_Virus_Index|            features|       rawPrediction|         probability|prediction|\n",
      "+---------+---------+----------+--------------------+-----------------+---------------+----------------+----------------+-----------------------+--------------------+--------------------+--------------------+----------+\n",
      "|2009-2010|   200940|  10/10/09|            Bay Area|      Influenza_A|             36|             220|           16.36|                    0.0|[200940.0,36.0,22...|[495.757682133905...|[0.99851296676736...|       0.0|\n",
      "|2009-2010|   200940|  10/10/09|            Bay Area|  Total_Influenza|             36|             220|           16.36|                    3.0|[200940.0,36.0,22...|[201.176727941652...|[5.74825873594529...|       3.0|\n",
      "|2009-2010|   200940|  10/10/09|             Central|      Influenza_B|              1|             787|            0.13|                    2.0|[200940.0,1.0,787...|[288.798882548750...|[1.87963402669167...|       2.0|\n",
      "|2009-2010|   200940|  10/10/09|      Lower Southern|  Total_Influenza|             21|             150|            14.0|                    3.0|[200940.0,21.0,15...|[198.221575406162...|[7.98131781167883...|       3.0|\n",
      "|2009-2010|   200940|  10/10/09|            Northern|      Influenza_A|              0|               0|             0.0|                    0.0|  (5,[0],[200940.0])|[487.084503727576...|[0.99984025401116...|       0.0|\n",
      "|2009-2010|   200940|  10/10/09|            Northern|  Total_Influenza|              0|               0|             0.0|                    3.0|(5,[0,4],[200940....|[192.503549535324...|[7.35306201063209...|       3.0|\n",
      "|2009-2010|   200940|  10/10/09|   Northern/Bay Area|      Influenza_A|            627|            1510|           41.52|                    0.0|[200940.0,627.0,1...|[605.208890669872...|[0.97957218283749...|       0.0|\n",
      "|2009-2010|   200940|  10/10/09|   Northern/Bay Area|      Influenza_B|              1|            1510|            0.07|                    2.0|[200940.0,1.0,151...|[286.856881122034...|[2.61195741517891...|       2.0|\n",
      "|2009-2010|   200940|  10/10/09|      Upper Southern|      Influenza_A|             17|             158|           10.76|                    0.0|[200940.0,17.0,15...|[491.523452441390...|[0.99930920980605...|       0.0|\n",
      "|2009-2010|   200940|  10/10/09|      Upper Southern|      Influenza_B|              0|             158|             0.0|                    2.0|[200940.0,0.0,158...|[290.274916075339...|[1.45656808400415...|       2.0|\n",
      "|2009-2010|   200941|  10/17/09|          California|      Influenza_A|           1457|            3693|           39.45|                    0.0|[200941.0,1457.0,...|[751.913427842655...|[0.99690504751800...|       0.0|\n",
      "|2009-2010|   200941|  10/17/09|          California|      Influenza_B|              5|            3693|            0.14|                    2.0|[200941.0,5.0,369...|[281.768405310448...|[6.83776557194523...|       2.0|\n",
      "|2009-2010|   200941|  10/17/09|             Central|      Influenza_A|            195|             585|           33.33|                    0.0|[200941.0,195.0,5...|[526.794207344211...|[0.98704795045368...|       0.0|\n",
      "|2009-2010|   200941|  10/17/09|             Central|              RSV|              0|             380|             0.0|                    1.0|[200941.0,0.0,380...|[387.873238144323...|[5.52085217272023...|       1.0|\n",
      "|2009-2010|   200941|  10/17/09|      Lower Southern|      Influenza_A|             44|             202|           21.78|                    0.0|[200941.0,44.0,20...|[498.148753802361...|[0.99673402440547...|       0.0|\n",
      "|2009-2010|   200941|  10/17/09|      Lower Southern|      Influenza_B|              0|             202|             0.0|                    2.0|[200941.0,0.0,202...|[290.155325383726...|[1.48247668560592...|       2.0|\n",
      "|2009-2010|   200941|  10/17/09|      Lower Southern|              RSV|              0|              53|             0.0|                    1.0|[200941.0,0.0,53....|[388.747207437809...|[4.64552670316102...|       1.0|\n",
      "|2009-2010|   200941|  10/17/09|            Northern|  Total_Influenza|              0|               0|             0.0|                    3.0|(5,[0,4],[200941....|[192.501557158431...|[7.33447950829422...|       3.0|\n",
      "|2009-2010|   200941|  10/17/09|      Upper Southern|      Influenza_A|              0|               0|             0.0|                    0.0|  (5,[0],[200941.0])|[487.082511350684...|[0.99984043047056...|       0.0|\n",
      "|2009-2010|   200941|  10/17/09|Upper/Lower Southern|      Influenza_B|              0|             553|             0.0|                    2.0|[200941.0,0.0,553...|[289.217211554940...|[1.72996099726185...|       2.0|\n",
      "+---------+---------+----------+--------------------+-----------------+---------------+----------------+----------------+-----------------------+--------------------+--------------------+--------------------+----------+\n",
      "only showing top 20 rows\n",
      "\n"
     ]
    }
   ],
   "source": [
    "#prediction.show()"
   ]
  },
  {
   "cell_type": "code",
   "execution_count": 21,
   "id": "8b144adb",
   "metadata": {},
   "outputs": [
    {
     "name": "stdout",
     "output_type": "stream",
     "text": [
      "+-----------------------+--------------------+--------------------+--------------------+----------+\n",
      "|Respiratory_Virus_Index|            features|       rawPrediction|         probability|prediction|\n",
      "+-----------------------+--------------------+--------------------+--------------------+----------+\n",
      "|                    0.0|[200940.0,36.0,22...|[495.757682133905...|[0.99851296676736...|       0.0|\n",
      "|                    3.0|[200940.0,36.0,22...|[201.176727941652...|[5.74825873594529...|       3.0|\n",
      "|                    2.0|[200940.0,1.0,787...|[288.798882548750...|[1.87963402669167...|       2.0|\n",
      "|                    3.0|[200940.0,21.0,15...|[198.221575406162...|[7.98131781167883...|       3.0|\n",
      "|                    0.0|  (5,[0],[200940.0])|[487.084503727576...|[0.99984025401116...|       0.0|\n",
      "|                    3.0|(5,[0,4],[200940....|[192.503549535324...|[7.35306201063209...|       3.0|\n",
      "|                    0.0|[200940.0,627.0,1...|[605.208890669872...|[0.97957218283749...|       0.0|\n",
      "|                    2.0|[200940.0,1.0,151...|[286.856881122034...|[2.61195741517891...|       2.0|\n",
      "|                    0.0|[200940.0,17.0,15...|[491.523452441390...|[0.99930920980605...|       0.0|\n",
      "|                    2.0|[200940.0,0.0,158...|[290.274916075339...|[1.45656808400415...|       2.0|\n",
      "|                    0.0|[200941.0,1457.0,...|[751.913427842655...|[0.99690504751800...|       0.0|\n",
      "|                    2.0|[200941.0,5.0,369...|[281.768405310448...|[6.83776557194523...|       2.0|\n",
      "|                    0.0|[200941.0,195.0,5...|[526.794207344211...|[0.98704795045368...|       0.0|\n",
      "|                    1.0|[200941.0,0.0,380...|[387.873238144323...|[5.52085217272023...|       1.0|\n",
      "|                    0.0|[200941.0,44.0,20...|[498.148753802361...|[0.99673402440547...|       0.0|\n",
      "|                    2.0|[200941.0,0.0,202...|[290.155325383726...|[1.48247668560592...|       2.0|\n",
      "|                    1.0|[200941.0,0.0,53....|[388.747207437809...|[4.64552670316102...|       1.0|\n",
      "|                    3.0|(5,[0,4],[200941....|[192.501557158431...|[7.33447950829422...|       3.0|\n",
      "|                    0.0|  (5,[0],[200941.0])|[487.082511350684...|[0.99984043047056...|       0.0|\n",
      "|                    2.0|[200941.0,0.0,553...|[289.217211554940...|[1.72996099726185...|       2.0|\n",
      "+-----------------------+--------------------+--------------------+--------------------+----------+\n",
      "only showing top 20 rows\n",
      "\n"
     ]
    }
   ],
   "source": [
    "#prediction.select([\"Respiratory_Virus_Index\",\"features\",\"rawPrediction\",\"probability\",\"prediction\"]).show()"
   ]
  },
  {
   "cell_type": "markdown",
   "id": "d9e5aae7",
   "metadata": {},
   "source": [
    "#### ML Tuning: model selection and hyperparameter tuning\n",
    "- It Describes how to use MLlib’s tooling for tuning ML algorithms and Pipelines.\n",
    "- Built-in Cross-Validation and other tooling allow users to optimize hyperparameters in algorithms and Pipelines."
   ]
  },
  {
   "cell_type": "markdown",
   "id": "362773fb",
   "metadata": {},
   "source": [
    "#### Model selection(hyperparameter tuning)\n",
    "- Using data to find the best model or parameters for a given task i.e. called tunning.\n",
    "- Individual Estimators such as LogisticRegression, or entire Pipelines which include multiple algorithms, featurization, and other steps.\n",
    "- Model selection tools\n",
    "  - CrossValidator\n",
    "  - TrainValidationSplit\n",
    "- These tools require the following items:\n",
    "   - Estimator: algorithm or Pipeline to tune\n",
    "   - Set of ParamMaps: parameters to choose from, sometimes called a “parameter grid” to search over\n",
    "   - Evaluator: metric to measure how well a fitted Model does on held-out test data\n",
    "       - a RegressionEvaluator for regression problems, \n",
    "       - a BinaryClassificationEvaluator for binary data, \n",
    "       - a MulticlassClassificationEvaluator for multiclass problems,\n",
    "       - a MultilabelClassificationEvaluator for multi-label classifications,\n",
    "       - a RankingEvaluator for ranking problems"
   ]
  },
  {
   "cell_type": "markdown",
   "id": "eba5c53c",
   "metadata": {},
   "source": [
    "#### Model selection tools workflow:[ml tunning](https://spark.apache.org/docs/latest/ml-tuning.html)\n",
    "- They split the input data into separate training and test datasets.\n",
    "- For each (training, test) pair, they iterate through the set of ParamMaps:\n",
    "   - For each ParamMap, they fit the Estimator using those parameters, get the fitted Model, and evaluate the Model’s performance using the Evaluator.\n",
    "   - The default metric used to choose the best ParamMap can be overridden by the setMetricName method in each of evaluators.\n",
    "- They select the Model produced by the best-performing set of parameters.\n",
    "- Parameter grid: construct with ParamGridBuilder utility.\n",
    "- By default, sets of parameters of parameter grid evaluated in serial.\n",
    "- Parameter evaluation can be done in parallel by setting parallelism with a value of 2 or more (a value of 1 will be serial) before running model selection with CrossValidator or TrainValidationSplit. \n",
    "- Parallelism  value up to 10 should be sufficient for most clusters."
   ]
  },
  {
   "cell_type": "markdown",
   "id": "e8c971d2",
   "metadata": {},
   "source": [
    "#### CrossValidation:\n",
    "- CrossValidatorModel contains the model with the highest average cross-validation metric across folds and uses this model to transform input data. CrossValidatorModel also tracks the metrics for each param map evaluated.\n",
    "- Splitting the dataset into a set of folds which are used as separate training and test datasets.\n",
    "- E.g., with k=4 folds, CrossValidator will generate 4(training, test) dataset pairs, each of which uses 3/4 of the data for training and 1/4 for testing. \n",
    "- To evaluate a particular ParamMap, CrossValidator computes the average evaluation metric for the 4 Models produced by fitting the Estimator on the 4 different (training, test) dataset pairs.\n",
    "- After identifying the best ParamMap, CrossValidator finally re-fits the Estimator using the best ParamMap and the entire dataset.\n"
   ]
  },
  {
   "cell_type": "code",
   "execution_count": 20,
   "id": "6097f1a0",
   "metadata": {},
   "outputs": [],
   "source": [
    "# We now treat the Pipeline as an Estimator, wrapping it in a CrossValidator instance.\n",
    "# This will allow us to jointly choose parameters for all Pipeline stages.\n",
    "# A CrossValidator requires an Estimator, a set of Estimator ParamMaps, and an Evaluator.\n",
    "# We use a ParamGridBuilder to construct a grid of parameters to search over.\n",
    "# With 2 values for lr.regParam,\n",
    "# this grid will have 2 parameter settings for CrossValidator to choose from.\n",
    "from pyspark.ml.tuning import CrossValidator, ParamGridBuilder\n",
    "\n",
    "paramGrid = ParamGridBuilder() \\\n",
    "    .addGrid(lr.regParam, [0, 100]) \\\n",
    "    .build()"
   ]
  },
  {
   "cell_type": "code",
   "execution_count": 21,
   "id": "6e444b98",
   "metadata": {},
   "outputs": [],
   "source": [
    "from pyspark.ml.evaluation import MulticlassClassificationEvaluator \n",
    "crossval = CrossValidator(estimator=pipeline1,\n",
    "                          estimatorParamMaps=paramGrid,\n",
    "                          evaluator=MulticlassClassificationEvaluator(labelCol='Respiratory_Virus_Index',predictionCol=\"prediction\"),\n",
    "                          numFolds=2)"
   ]
  },
  {
   "cell_type": "code",
   "execution_count": 22,
   "id": "d5267cfc",
   "metadata": {},
   "outputs": [
    {
     "name": "stderr",
     "output_type": "stream",
     "text": [
      "                                                                                \r"
     ]
    },
    {
     "name": "stdout",
     "output_type": "stream",
     "text": [
      "23/05/01 10:40:26 WARN InstanceBuilder$JavaBLAS: Failed to load implementation from:dev.ludovic.netlib.blas.VectorBLAS\n"
     ]
    }
   ],
   "source": [
    "# Run cross-validation, and choose the best set of parameters.\n",
    "cvModel = crossval.fit(train)"
   ]
  },
  {
   "cell_type": "markdown",
   "id": "5112518d",
   "metadata": {},
   "source": [
    "#### Prediction Phase\n",
    "- In Spark, the method transform() is used for the prediction after passing the test data. Test data also must be a feature vector.\n",
    "- The transform method automatically adds a series of predicted values to our test data."
   ]
  },
  {
   "cell_type": "code",
   "execution_count": 23,
   "id": "7c052299",
   "metadata": {},
   "outputs": [],
   "source": [
    "prediction = cvModel.transform(test)"
   ]
  },
  {
   "cell_type": "code",
   "execution_count": 24,
   "id": "df8de17d",
   "metadata": {},
   "outputs": [
    {
     "name": "stdout",
     "output_type": "stream",
     "text": [
      "+---------+---------+----------+--------------------+-----------------+---------------+----------------+----------------+-----------------------+--------------------+--------------------+--------------------+----------+\n",
      "|   Season|Date_Code|Weekending|              Region|Respiratory_Virus|Number_Positive|Specimens_Tested|Percent_Positive|Respiratory_Virus_Index|            features|       rawPrediction|         probability|prediction|\n",
      "+---------+---------+----------+--------------------+-----------------+---------------+----------------+----------------+-----------------------+--------------------+--------------------+--------------------+----------+\n",
      "|2009-2010|   200940|  10/10/09|            Bay Area|  Total_Influenza|             36|             220|           16.36|                    1.0|[200940.0,36.0,22...|[7.15851683878224...|[0.04111866022696...|       2.0|\n",
      "|2009-2010|   200940|  10/10/09|          California|      Influenza_A|           1077|            3324|            32.4|                    3.0|[200940.0,1077.0,...|[80.6617451179464...|[2.14934460783874...|       1.0|\n",
      "|2009-2010|   200940|  10/10/09|          California|              RSV|              2|            2218|            0.09|                    2.0|[200940.0,2.0,221...|[3.38678940563750...|[0.37457740525941...|       0.0|\n",
      "|2009-2010|   200940|  10/10/09|      Lower Southern|              RSV|              0|              35|             0.0|                    2.0|[200940.0,0.0,35....|[2.71819978002201...|[0.23671275896524...|       0.0|\n",
      "|2009-2010|   200940|  10/10/09|            Northern|      Influenza_B|              0|               0|             0.0|                    0.0|  (4,[0],[200940.0])|[2.70983442416581...|[0.23252302287193...|       0.0|\n",
      "|2009-2010|   200940|  10/10/09|   Northern/Bay Area|      Influenza_A|            627|            1510|           41.52|                    3.0|[200940.0,627.0,1...|[50.6845554801914...|[1.86257335769626...|       1.0|\n",
      "|2009-2010|   200940|  10/10/09|   Northern/Bay Area|              RSV|              2|            1510|            0.13|                    2.0|[200940.0,2.0,151...|[3.22232774430199...|[0.38235562347049...|       0.0|\n",
      "|2009-2010|   200940|  10/10/09|      Upper Southern|      Influenza_A|             17|             158|           10.76|                    3.0|[200940.0,17.0,15...|[5.18444627830660...|[0.08511975680976...|       2.0|\n",
      "|2009-2010|   200940|  10/10/09|      Upper Southern|      Influenza_B|              0|             158|             0.0|                    0.0|[200940.0,0.0,158...|[2.74759803060237...|[0.25126633730163...|       0.0|\n",
      "|2009-2010|   200941|  10/17/09|          California|              RSV|              8|            2764|            0.29|                    2.0|[200941.0,8.0,276...|[3.94601121040375...|[0.50809889010690...|       0.0|\n",
      "|2009-2010|   200941|  10/17/09|          California|  Total_Influenza|           1462|            3693|           39.59|                    1.0|[200941.0,1462.0,...|[107.805913395780...|[9.01148045233254...|       1.0|\n",
      "|2009-2010|   200941|  10/17/09|             Central|      Influenza_A|            195|             585|           33.33|                    3.0|[200941.0,195.0,5...|[20.0827120880322...|[0.00250545974935...|       2.0|\n",
      "|2009-2010|   200941|  10/17/09|             Central|      Influenza_B|              0|             585|             0.0|                    0.0|[200941.0,0.0,585...|[2.84621202436437...|[0.29698030625642...|       0.0|\n",
      "|2009-2010|   200941|  10/17/09|             Central|              RSV|              0|             380|             0.0|                    2.0|[200941.0,0.0,380...|[2.79721494006378...|[0.27613394592169...|       0.0|\n",
      "|2009-2010|   200941|  10/17/09|             Central|  Total_Influenza|            195|             585|           33.33|                    1.0|[200941.0,195.0,5...|[20.0827120880322...|[0.00250545974935...|       2.0|\n",
      "|2009-2010|   200941|  10/17/09|      Lower Southern|              RSV|              0|              53|             0.0|                    2.0|[200941.0,0.0,53....|[2.71905861535003...|[0.23872375061098...|       0.0|\n",
      "|2009-2010|   200941|  10/17/09|            Northern|  Total_Influenza|              0|               0|             0.0|                    1.0|  (4,[0],[200941.0])|[2.70639107648207...|[0.23239488421509...|       0.0|\n",
      "|2009-2010|   200941|  10/17/09|Upper/Lower Southern|      Influenza_A|            251|             553|           45.39|                    3.0|[200941.0,251.0,5...|[25.3209884174887...|[2.59825732646270...|      10.0|\n",
      "|2009-2010|   200941|  10/17/09|Upper/Lower Southern|      Influenza_B|              0|             553|             0.0|                    0.0|[200941.0,0.0,553...|[2.83856369901013...|[0.29390898402927...|       0.0|\n",
      "|2009-2010|   200941|  10/17/09|Upper/Lower Southern|              RSV|              3|              12|            25.0|                    2.0|[200941.0,3.0,12....|[5.88690886078006...|[0.01032592718229...|       2.0|\n",
      "+---------+---------+----------+--------------------+-----------------+---------------+----------------+----------------+-----------------------+--------------------+--------------------+--------------------+----------+\n",
      "only showing top 20 rows\n",
      "\n"
     ]
    }
   ],
   "source": [
    "prediction.show()"
   ]
  },
  {
   "cell_type": "code",
   "execution_count": null,
   "id": "90784537",
   "metadata": {},
   "outputs": [],
   "source": [
    "#colum respiratory_virus is flu or not flu(yes/no)-list of rv with flu(y/n)\n",
    "#flu_index /prediction logisticregression for binaryclassevaluator model"
   ]
  },
  {
   "cell_type": "code",
   "execution_count": 30,
   "id": "8f74c534",
   "metadata": {
    "scrolled": true
   },
   "outputs": [
    {
     "name": "stdout",
     "output_type": "stream",
     "text": [
      "+-----------------------+--------------------+--------------------+--------------------+----------+\n",
      "|Respiratory_Virus_Index|            features|       rawPrediction|         probability|prediction|\n",
      "+-----------------------+--------------------+--------------------+--------------------+----------+\n",
      "|                    1.0|[200940.0,36.0,22...|[7.15851683878224...|[0.04111866022696...|       2.0|\n",
      "|                    3.0|[200940.0,1077.0,...|[80.6617451179464...|[2.14934460783874...|       1.0|\n",
      "|                    2.0|[200940.0,2.0,221...|[3.38678940563750...|[0.37457740525941...|       0.0|\n",
      "|                    2.0|[200940.0,0.0,35....|[2.71819978002201...|[0.23671275896524...|       0.0|\n",
      "|                    0.0|  (4,[0],[200940.0])|[2.70983442416581...|[0.23252302287193...|       0.0|\n",
      "|                    3.0|[200940.0,627.0,1...|[50.6845554801914...|[1.86257335769626...|       1.0|\n",
      "|                    2.0|[200940.0,2.0,151...|[3.22232774430199...|[0.38235562347049...|       0.0|\n",
      "|                    3.0|[200940.0,17.0,15...|[5.18444627830660...|[0.08511975680976...|       2.0|\n",
      "|                    0.0|[200940.0,0.0,158...|[2.74759803060237...|[0.25126633730163...|       0.0|\n",
      "|                    2.0|[200941.0,8.0,276...|[3.94601121040375...|[0.50809889010690...|       0.0|\n",
      "|                    1.0|[200941.0,1462.0,...|[107.805913395780...|[9.01148045233254...|       1.0|\n",
      "|                    3.0|[200941.0,195.0,5...|[20.0827120880322...|[0.00250545974935...|       2.0|\n",
      "|                    0.0|[200941.0,0.0,585...|[2.84621202436437...|[0.29698030625642...|       0.0|\n",
      "|                    2.0|[200941.0,0.0,380...|[2.79721494006378...|[0.27613394592169...|       0.0|\n",
      "|                    1.0|[200941.0,195.0,5...|[20.0827120880322...|[0.00250545974935...|       2.0|\n",
      "|                    2.0|[200941.0,0.0,53....|[2.71905861535003...|[0.23872375061098...|       0.0|\n",
      "|                    1.0|  (4,[0],[200941.0])|[2.70639107648207...|[0.23239488421509...|       0.0|\n",
      "|                    3.0|[200941.0,251.0,5...|[25.3209884174887...|[2.59825732646270...|      10.0|\n",
      "|                    0.0|[200941.0,0.0,553...|[2.83856369901013...|[0.29390898402927...|       0.0|\n",
      "|                    2.0|[200941.0,3.0,12....|[5.88690886078006...|[0.01032592718229...|       2.0|\n",
      "+-----------------------+--------------------+--------------------+--------------------+----------+\n",
      "only showing top 20 rows\n",
      "\n"
     ]
    }
   ],
   "source": [
    "prediction.select([\"Respiratory_Virus_Index\",\"features\",\"rawPrediction\",\"probability\",\"prediction\"]).show()"
   ]
  },
  {
   "cell_type": "code",
   "execution_count": 34,
   "id": "c9032538",
   "metadata": {},
   "outputs": [
    {
     "data": {
      "text/plain": [
       "array([[633,  14, 101,  27,   7, 131,  24,  17,  10,  35,  31,  21,   3,\n",
       "          5,  12,   3,   2,   3,  79],\n",
       "       [454, 104, 220,  60,  11,  37,  29,  11,  13,  21, 117,   0,   7,\n",
       "          3,  14,   2,   0,   4,  81],\n",
       "       [417,  47, 223,  55,  12,  70,  30,  21,  12,  26, 135,   8,  11,\n",
       "          6,  17,   6,   0,   6,  98],\n",
       "       [587,  52, 185,  54,  10,  63,  24,  16,  11,  33,  74,   2,  13,\n",
       "          4,  16,   3,   1,   3,  91],\n",
       "       [224,  30,  68,  11,  20,  97,  47,   8,  17,  25,  23,  10,  14,\n",
       "         10,  38,   2,   0,   2,  88],\n",
       "       [236,   8,   6,   0,   0, 302,   0,   0,   0,   0,   3,   0,   0,\n",
       "          0,   0,   0,   0,   1, 181],\n",
       "       [169,  43, 134,   8,  12,  35, 106,   7,  31,  19,  67,   2,  10,\n",
       "          9,  30,   6,   0,   4,  49],\n",
       "       [235,  24,   6,   2,   1, 248,  14,  16,   7,  14,   2,  10,   3,\n",
       "          5,   3,  10,   4,   3, 143],\n",
       "       [235,  53,  52,  19,  24,  32,  78,   7,  58,  23,  21,   0,  26,\n",
       "         14,  60,   1,   0,   3,  52],\n",
       "       [217,  13,  25,   2,   8, 235,  24,  13,   9,  19,  14,  13,   2,\n",
       "         10,  16,   5,   4,   5, 131],\n",
       "       [ 53,  42, 125,  12,   0,  16,  16,   0,   3,   0, 448,   0,   0,\n",
       "          9,  21,   0,   0,   0,  33],\n",
       "       [271,   2,   0,   5,   7, 232,   5,  13,  12,  29,   0,  16,   4,\n",
       "          8,  15,   9,   2,   6, 164],\n",
       "       [273,  28,  70,  16,  10,  92,  51,  14,  27,  43,  27,  13,   6,\n",
       "          6,  21,   9,   4,   2, 102],\n",
       "       [ 72,   2,  17,   1,   8, 155,  21,   8,   2,  21,  17,   0,   8,\n",
       "          8,  11,   2,   0,   3, 147],\n",
       "       [ 85,  11,  20,   2,   9, 107,  37,  12,   4,  20,  14,   2,  18,\n",
       "         11,  23,   3,   0,   5, 120],\n",
       "       [ 36,   8,   1,   0,   0, 230,   4,  10,   9,   7,   3,   5,   0,\n",
       "          1,  12,   1,   0,   1, 213],\n",
       "       [ 29,   3,   0,   0,   5, 260,   4,   8,   8,   4,   1,   6,   0,\n",
       "          4,  11,   0,   0,   1, 199],\n",
       "       [ 36,   2,   1,   1,   0, 247,   5,   5,   7,  19,   5,   4,   2,\n",
       "          1,  16,   1,   0,   1, 194],\n",
       "       [ 23,   2,   0,   0,   0, 296,   2,   3,   1,   2,   0,   3,   0,\n",
       "          3,   3,   1,   0,   0, 214]])"
      ]
     },
     "execution_count": 34,
     "metadata": {},
     "output_type": "execute_result"
    }
   ],
   "source": [
    "#confusion matrix\n",
    "from sklearn.metrics import confusion_matrix\n",
    "y_true =prediction.select(\"Respiratory_Virus_Index\")\n",
    "y_true = y_true.toPandas()\n",
    "\n",
    "y_pred = prediction.select(\"prediction\")\n",
    "y_pred = y_pred.toPandas()\n",
    "\n",
    "cnf_matrix = confusion_matrix(y_true, y_pred,labels=range(19))\n",
    "cnf_matrix"
   ]
  },
  {
   "cell_type": "code",
   "execution_count": 35,
   "id": "69ac00d0",
   "metadata": {},
   "outputs": [],
   "source": [
    "import matplotlib.pyplot as plt\n",
    "import numpy as np\n",
    "import itertools\n",
    "\n",
    "# function for plotting confusion matrix\n",
    "def plot_confusion_matrix(cm, classes,normalize=False,title='Confusion matrix',cmap=plt.cm.GnBu):\n",
    "    plt.imshow(cm, interpolation='nearest', cmap=cmap)\n",
    "    plt.title(title)\n",
    "    tick_marks = np.arange(len(classes))\n",
    "    plt.xticks(tick_marks, classes, rotation=45)\n",
    "    plt.yticks(tick_marks, classes)\n",
    "    fmt = '.2f' if normalize else 'd'\n",
    "    thresh = cm.max() / 2.\n",
    "    for i, j in itertools.product(range(cm.shape[0]),range(cm.shape[1])):\n",
    "        plt.text(j, i, format(cm[i, j], fmt),horizontalalignment=\"center\",color=\"white\" if cm[i, j] > thresh else \"black\")\n",
    "    plt.tight_layout()\n",
    "    plt.ylabel('True label')\n",
    "    plt.xlabel('Predicted label')"
   ]
  },
  {
   "cell_type": "code",
   "execution_count": 40,
   "id": "a97d9b27",
   "metadata": {
    "scrolled": true
   },
   "outputs": [
    {
     "data": {
      "image/png": "[encoded data removed]",
      "text/plain": [
       "<Figure size 700x700 with 1 Axes>"
      ]
     },
     "metadata": {},
     "output_type": "display_data"
    }
   ],
   "source": [
    "import seaborn as sns\n",
    "sns.set_style(\"darkgrid\")\n",
    "plt.figure(figsize=(7,7))\n",
    "plt.grid(False)\n",
    "\n",
    "# call pre defined function\n",
    "plot_confusion_matrix(cnf_matrix, classes=range(19))"
   ]
  },
  {
   "cell_type": "code",
   "execution_count": 41,
   "id": "c00aae63",
   "metadata": {},
   "outputs": [
    {
     "name": "stdout",
     "output_type": "stream",
     "text": [
      "              precision    recall  f1-score   support\n",
      "\n",
      "     Class 0       0.15      0.55      0.23      1158\n",
      "     Class 1       0.21      0.09      0.12      1188\n",
      "     Class 2       0.18      0.19      0.18      1200\n",
      "     Class 3       0.20      0.04      0.07      1242\n",
      "     Class 4       0.14      0.03      0.05       734\n",
      "     Class 5       0.10      0.41      0.17       737\n",
      "     Class 6       0.20      0.14      0.17       741\n",
      "     Class 7       0.08      0.02      0.03       750\n",
      "     Class 8       0.24      0.08      0.12       758\n",
      "     Class 9       0.05      0.02      0.03       765\n",
      "    Class 10       0.45      0.58      0.50       778\n",
      "    Class 11       0.14      0.02      0.03       800\n",
      "    Class 12       0.05      0.01      0.01       814\n",
      "    Class 13       0.07      0.02      0.03       503\n",
      "    Class 14       0.07      0.05      0.05       503\n",
      "    Class 15       0.02      0.00      0.00       541\n",
      "    Class 16       0.00      0.00      0.00       543\n",
      "    Class 17       0.02      0.00      0.00       547\n",
      "    Class 18       0.09      0.39      0.15       553\n",
      "\n",
      "    accuracy                           0.15     14855\n",
      "   macro avg       0.13      0.14      0.10     14855\n",
      "weighted avg       0.14      0.15      0.11     14855\n",
      "\n"
     ]
    }
   ],
   "source": [
    "from sklearn.metrics import classification_report\n",
    "target_names = [\"Class {}\".format(i) for i in range(19)]\n",
    "print(classification_report(y_true, y_pred, target_names = target_names))"
   ]
  },
  {
   "cell_type": "code",
   "execution_count": 42,
   "id": "f0e5d508",
   "metadata": {},
   "outputs": [
    {
     "name": "stdout",
     "output_type": "stream",
     "text": [
      "+-----------------------+----------+\n",
      "|Respiratory_Virus_Index|prediction|\n",
      "+-----------------------+----------+\n",
      "|                    1.0|       2.0|\n",
      "|                    3.0|       1.0|\n",
      "|                    2.0|       0.0|\n",
      "|                    2.0|       0.0|\n",
      "|                    0.0|       0.0|\n",
      "|                    3.0|       1.0|\n",
      "|                    2.0|       0.0|\n",
      "|                    3.0|       2.0|\n",
      "|                    0.0|       0.0|\n",
      "|                    2.0|       0.0|\n",
      "|                    1.0|       1.0|\n",
      "|                    3.0|       2.0|\n",
      "|                    0.0|       0.0|\n",
      "|                    2.0|       0.0|\n",
      "|                    1.0|       2.0|\n",
      "|                    2.0|       0.0|\n",
      "|                    1.0|       0.0|\n",
      "|                    3.0|      10.0|\n",
      "|                    0.0|       0.0|\n",
      "|                    2.0|       2.0|\n",
      "|                    2.0|       0.0|\n",
      "|                    2.0|       0.0|\n",
      "|                    2.0|       0.0|\n",
      "|                    0.0|       0.0|\n",
      "|                    2.0|       0.0|\n",
      "|                    0.0|       0.0|\n",
      "|                    0.0|       0.0|\n",
      "|                    1.0|      10.0|\n",
      "|                    3.0|       2.0|\n",
      "|                    0.0|       0.0|\n",
      "|                    2.0|       0.0|\n",
      "|                    1.0|       2.0|\n",
      "|                    0.0|       0.0|\n",
      "|                    2.0|       0.0|\n",
      "|                    0.0|       0.0|\n",
      "|                    2.0|       0.0|\n",
      "|                    1.0|       0.0|\n",
      "|                    3.0|      10.0|\n",
      "|                    2.0|       0.0|\n",
      "|                    0.0|       0.0|\n",
      "|                    2.0|       0.0|\n",
      "|                    1.0|       2.0|\n",
      "|                    0.0|       0.0|\n",
      "|                    2.0|       0.0|\n",
      "|                    0.0|       0.0|\n",
      "|                    2.0|       0.0|\n",
      "|                    1.0|      10.0|\n",
      "|                    2.0|       0.0|\n",
      "|                    1.0|       2.0|\n",
      "|                    3.0|       2.0|\n",
      "|                    0.0|       0.0|\n",
      "|                    1.0|       2.0|\n",
      "|                    1.0|       0.0|\n",
      "|                    3.0|       2.0|\n",
      "|                    3.0|       2.0|\n",
      "|                    0.0|       0.0|\n",
      "|                    1.0|       3.0|\n",
      "|                    0.0|       0.0|\n",
      "|                    3.0|       2.0|\n",
      "|                    2.0|       0.0|\n",
      "|                    0.0|       0.0|\n",
      "|                    3.0|       2.0|\n",
      "|                    1.0|       2.0|\n",
      "|                    1.0|       2.0|\n",
      "|                    3.0|       2.0|\n",
      "|                    0.0|       0.0|\n",
      "|                    3.0|       2.0|\n",
      "|                    1.0|       2.0|\n",
      "|                    3.0|       2.0|\n",
      "|                    0.0|       0.0|\n",
      "|                    1.0|       2.0|\n",
      "|                    0.0|       0.0|\n",
      "|                    0.0|       0.0|\n",
      "|                    2.0|       0.0|\n",
      "|                    1.0|       2.0|\n",
      "|                    3.0|       2.0|\n",
      "|                    2.0|       0.0|\n",
      "|                    0.0|       0.0|\n",
      "|                    3.0|       2.0|\n",
      "|                    0.0|       0.0|\n",
      "|                    2.0|       2.0|\n",
      "|                    1.0|       2.0|\n",
      "|                    2.0|       0.0|\n",
      "|                    3.0|       2.0|\n",
      "|                    1.0|       2.0|\n",
      "|                    1.0|       2.0|\n",
      "|                    2.0|       0.0|\n",
      "|                    1.0|       2.0|\n",
      "|                    1.0|       2.0|\n",
      "|                    0.0|       0.0|\n",
      "|                    3.0|       2.0|\n",
      "|                    0.0|       0.0|\n",
      "|                    2.0|       2.0|\n",
      "|                    1.0|       2.0|\n",
      "|                    3.0|       2.0|\n",
      "|                    0.0|       0.0|\n",
      "|                    0.0|       0.0|\n",
      "|                    2.0|       3.0|\n",
      "|                    3.0|       0.0|\n",
      "|                    1.0|       2.0|\n",
      "+-----------------------+----------+\n",
      "only showing top 100 rows\n",
      "\n"
     ]
    }
   ],
   "source": [
    "prediction.select(\"Respiratory_Virus_Index\",\"prediction\").show(100)"
   ]
  },
  {
   "cell_type": "code",
   "execution_count": 43,
   "id": "6653f0c8",
   "metadata": {},
   "outputs": [
    {
     "data": {
      "image/png": "[encoded data removed]",
      "text/plain": [
       "<Figure size 1500x1000 with 2 Axes>"
      ]
     },
     "metadata": {},
     "output_type": "display_data"
    }
   ],
   "source": [
    "sns.set(rc={'figure.figsize':(15,10)})\n",
    "sns.heatmap(influenza_df.toPandas().iloc[:,:-1].corr(), annot=True, cmap=\"YlGnBu\")\n",
    "plt.show()"
   ]
  },
  {
   "cell_type": "markdown",
   "id": "080abc27",
   "metadata": {},
   "source": [
    "#### Selection of Fine-Tuned Model\n",
    "- After running the cross validator, cross-validation saves the best fit model and its score.\n",
    "- bestModel : This method returns the best-fitted model"
   ]
  },
  {
   "cell_type": "code",
   "execution_count": 26,
   "id": "b6e494d8",
   "metadata": {},
   "outputs": [
    {
     "name": "stdout",
     "output_type": "stream",
     "text": [
      "[StringIndexerModel: uid=StringIndexer_3b7aa0b804c9, handleInvalid=error, VectorAssembler_cbf6f5db52de, LogisticRegressionModel: uid=LogisticRegression_b690db5fdb81, numClasses=19, numFeatures=4]\n"
     ]
    }
   ],
   "source": [
    "bestModel = cvModel.bestModel\n",
    "print(bestModel.stages)"
   ]
  },
  {
   "cell_type": "code",
   "execution_count": 27,
   "id": "00233101",
   "metadata": {
    "scrolled": true
   },
   "outputs": [
    {
     "name": "stdout",
     "output_type": "stream",
     "text": [
      "+---------+---------+----------+--------------------+-----------------+---------------+----------------+----------------+\n",
      "|   Season|Date_Code|Weekending|              Region|Respiratory_Virus|Number_Positive|Specimens_Tested|Percent_Positive|\n",
      "+---------+---------+----------+--------------------+-----------------+---------------+----------------+----------------+\n",
      "|2009-2010|   200940|  10/10/09|            Bay Area|  Total_Influenza|             36|             220|           16.36|\n",
      "|2009-2010|   200940|  10/10/09|          California|  Total_Influenza|           1080|            3324|           32.49|\n",
      "|2009-2010|   200940|  10/10/09|             Central|  Total_Influenza|            203|             787|           25.79|\n",
      "|2009-2010|   200940|  10/10/09|      Lower Southern|  Total_Influenza|             21|             150|            14.0|\n",
      "|2009-2010|   200940|  10/10/09|            Northern|  Total_Influenza|              0|               0|             0.0|\n",
      "|2009-2010|   200940|  10/10/09|   Northern/Bay Area|  Total_Influenza|            628|            1510|           41.59|\n",
      "|2009-2010|   200940|  10/10/09|      Upper Southern|  Total_Influenza|             17|             158|           10.76|\n",
      "|2009-2010|   200940|  10/10/09|Upper/Lower Southern|  Total_Influenza|            175|             499|           35.07|\n",
      "|2009-2010|   200941|  10/17/09|            Bay Area|  Total_Influenza|             48|             283|           16.96|\n",
      "|2009-2010|   200941|  10/17/09|          California|  Total_Influenza|           1462|            3693|           39.59|\n",
      "|2009-2010|   200941|  10/17/09|             Central|  Total_Influenza|            195|             585|           33.33|\n",
      "|2009-2010|   200941|  10/17/09|      Lower Southern|  Total_Influenza|             44|             202|           21.78|\n",
      "|2009-2010|   200941|  10/17/09|            Northern|  Total_Influenza|              0|               0|             0.0|\n",
      "|2009-2010|   200941|  10/17/09|   Northern/Bay Area|  Total_Influenza|            924|            2070|           44.64|\n",
      "|2009-2010|   200941|  10/17/09|      Upper Southern|  Total_Influenza|              0|               0|             0.0|\n",
      "|2009-2010|   200941|  10/17/09|Upper/Lower Southern|  Total_Influenza|            251|             553|           45.39|\n",
      "|2009-2010|   200942|  10/24/09|            Bay Area|  Total_Influenza|             53|             330|           16.06|\n",
      "|2009-2010|   200942|  10/24/09|          California|  Total_Influenza|           1401|            3642|           38.47|\n",
      "|2009-2010|   200942|  10/24/09|             Central|  Total_Influenza|            162|             498|           32.53|\n",
      "|2009-2010|   200942|  10/24/09|      Lower Southern|  Total_Influenza|             54|             251|           21.51|\n",
      "+---------+---------+----------+--------------------+-----------------+---------------+----------------+----------------+\n",
      "only showing top 20 rows\n",
      "\n"
     ]
    }
   ],
   "source": [
    "influenza_df.filter(influenza_df.Respiratory_Virus==\"Total_Influenza\").show()"
   ]
  },
  {
   "cell_type": "markdown",
   "id": "9442f8ad",
   "metadata": {},
   "source": [
    "### Train-Validation Split"
   ]
  },
  {
   "cell_type": "markdown",
   "id": "11bb8335",
   "metadata": {},
   "source": [
    "- TrainValidationSplit only evaluates each combination of parameters once, as opposed to k times in the case of CrossValidator. It is, therefore, less expensive, but will not produce as reliable results when the training dataset is not sufficiently large.\n",
    "- It creates a single (training, test) dataset pair.\n",
    "- It splits the dataset into these two parts using the trainRatio parameter\n",
    "- For example with trainRatio=0.75, TrainValidationSplit will generate a training and test dataset pair where 75% of the data is used for training and 25% for validation.\n",
    "- Finally fits the Estimator using the best ParamMap and the entire dataset."
   ]
  },
  {
   "cell_type": "markdown",
   "id": "fa02419c",
   "metadata": {},
   "source": [
    "##### Examples: model selection via train validation split"
   ]
  },
  {
   "cell_type": "code",
   "execution_count": 45,
   "id": "a7faa9cf",
   "metadata": {},
   "outputs": [],
   "source": [
    "from pyspark.ml.regression import LinearRegression\n",
    "from pyspark.ml.tuning import ParamGridBuilder, TrainValidationSplit\n",
    "lr = LinearRegression(maxIter=10)"
   ]
  },
  {
   "cell_type": "code",
   "execution_count": 46,
   "id": "ee8d0743",
   "metadata": {},
   "outputs": [],
   "source": [
    "#We use a ParamGridBuilder to construct a grid of parameters to search over.\n",
    "# TrainValidationSplit will try all combinations of values and determine best model using\n",
    "# the evaluator.\n",
    "paramGrid = ParamGridBuilder()\\\n",
    "    .addGrid(lr.regParam, [0.1, 0.01]) \\\n",
    "    .addGrid(lr.fitIntercept, [False, True])\\\n",
    "    .addGrid(lr.elasticNetParam, [0.0, 0.5, 1.0])\\\n",
    "    .build()"
   ]
  },
  {
   "cell_type": "code",
   "execution_count": 48,
   "id": "18ce7c48",
   "metadata": {},
   "outputs": [],
   "source": [
    "# In this case the estimator is simply the linear regression.\n",
    "# A TrainValidationSplit requires an Estimator, a set of Estimator ParamMaps, and an Evaluator.\n",
    "from pyspark.ml.evaluation import RegressionEvaluator\n",
    "tvs = TrainValidationSplit(estimator=lr,\n",
    "                           estimatorParamMaps=paramGrid,\n",
    "                           evaluator=RegressionEvaluator(),\n",
    "                           # 80% of the data will be used for training, 20% for validation.\n",
    "                           trainRatio=0.8)"
   ]
  },
  {
   "cell_type": "code",
   "execution_count": 49,
   "id": "ee3191b7",
   "metadata": {},
   "outputs": [
    {
     "ename": "IllegalArgumentException",
     "evalue": "features does not exist. Available: Season, Date_Code, Weekending, Region, Respiratory_Virus, Number_Positive, Specimens_Tested, Percent_Positive, TrainValidationSplit_4ca4538f0e5f_rand",
     "output_type": "error",
     "traceback": [
      "\u001b[0;31m---------------------------------------------------------------------------\u001b[0m",
      "\u001b[0;31mIllegalArgumentException\u001b[0m                  Traceback (most recent call last)",
      "Cell \u001b[0;32mIn[49], line 2\u001b[0m\n\u001b[1;32m      1\u001b[0m \u001b[38;5;66;03m# Run TrainValidationSplit, and choose the best set of parameters.\u001b[39;00m\n\u001b[0;32m----> 2\u001b[0m model \u001b[38;5;241m=\u001b[39m \u001b[43mtvs\u001b[49m\u001b[38;5;241;43m.\u001b[39;49m\u001b[43mfit\u001b[49m\u001b[43m(\u001b[49m\u001b[43mtrain\u001b[49m\u001b[43m)\u001b[49m\n",
      "File \u001b[0;32m/opt/anaconda3/lib/python3.9/site-packages/pyspark/ml/base.py:205\u001b[0m, in \u001b[0;36mEstimator.fit\u001b[0;34m(self, dataset, params)\u001b[0m\n\u001b[1;32m    203\u001b[0m         \u001b[38;5;28;01mreturn\u001b[39;00m \u001b[38;5;28mself\u001b[39m\u001b[38;5;241m.\u001b[39mcopy(params)\u001b[38;5;241m.\u001b[39m_fit(dataset)\n\u001b[1;32m    204\u001b[0m     \u001b[38;5;28;01melse\u001b[39;00m:\n\u001b[0;32m--> 205\u001b[0m         \u001b[38;5;28;01mreturn\u001b[39;00m \u001b[38;5;28;43mself\u001b[39;49m\u001b[38;5;241;43m.\u001b[39;49m\u001b[43m_fit\u001b[49m\u001b[43m(\u001b[49m\u001b[43mdataset\u001b[49m\u001b[43m)\u001b[49m\n\u001b[1;32m    206\u001b[0m \u001b[38;5;28;01melse\u001b[39;00m:\n\u001b[1;32m    207\u001b[0m     \u001b[38;5;28;01mraise\u001b[39;00m \u001b[38;5;167;01mTypeError\u001b[39;00m(\n\u001b[1;32m    208\u001b[0m         \u001b[38;5;124m\"\u001b[39m\u001b[38;5;124mParams must be either a param map or a list/tuple of param maps, \u001b[39m\u001b[38;5;124m\"\u001b[39m\n\u001b[1;32m    209\u001b[0m         \u001b[38;5;124m\"\u001b[39m\u001b[38;5;124mbut got \u001b[39m\u001b[38;5;132;01m%s\u001b[39;00m\u001b[38;5;124m.\u001b[39m\u001b[38;5;124m\"\u001b[39m \u001b[38;5;241m%\u001b[39m \u001b[38;5;28mtype\u001b[39m(params)\n\u001b[1;32m    210\u001b[0m     )\n",
      "File \u001b[0;32m/opt/anaconda3/lib/python3.9/site-packages/pyspark/ml/tuning.py:1464\u001b[0m, in \u001b[0;36mTrainValidationSplit._fit\u001b[0;34m(self, dataset)\u001b[0m\n\u001b[1;32m   1462\u001b[0m pool \u001b[38;5;241m=\u001b[39m ThreadPool(processes\u001b[38;5;241m=\u001b[39m\u001b[38;5;28mmin\u001b[39m(\u001b[38;5;28mself\u001b[39m\u001b[38;5;241m.\u001b[39mgetParallelism(), numModels))\n\u001b[1;32m   1463\u001b[0m metrics \u001b[38;5;241m=\u001b[39m [\u001b[38;5;28;01mNone\u001b[39;00m] \u001b[38;5;241m*\u001b[39m numModels\n\u001b[0;32m-> 1464\u001b[0m \u001b[38;5;28;01mfor\u001b[39;00m j, metric, subModel \u001b[38;5;129;01min\u001b[39;00m pool\u001b[38;5;241m.\u001b[39mimap_unordered(\u001b[38;5;28;01mlambda\u001b[39;00m f: f(), tasks):\n\u001b[1;32m   1465\u001b[0m     metrics[j] \u001b[38;5;241m=\u001b[39m metric\n\u001b[1;32m   1466\u001b[0m     \u001b[38;5;28;01mif\u001b[39;00m collectSubModelsParam:\n",
      "File \u001b[0;32m/opt/anaconda3/lib/python3.9/multiprocessing/pool.py:870\u001b[0m, in \u001b[0;36mIMapIterator.next\u001b[0;34m(self, timeout)\u001b[0m\n\u001b[1;32m    868\u001b[0m \u001b[38;5;28;01mif\u001b[39;00m success:\n\u001b[1;32m    869\u001b[0m     \u001b[38;5;28;01mreturn\u001b[39;00m value\n\u001b[0;32m--> 870\u001b[0m \u001b[38;5;28;01mraise\u001b[39;00m value\n",
      "File \u001b[0;32m/opt/anaconda3/lib/python3.9/multiprocessing/pool.py:125\u001b[0m, in \u001b[0;36mworker\u001b[0;34m(inqueue, outqueue, initializer, initargs, maxtasks, wrap_exception)\u001b[0m\n\u001b[1;32m    123\u001b[0m job, i, func, args, kwds \u001b[38;5;241m=\u001b[39m task\n\u001b[1;32m    124\u001b[0m \u001b[38;5;28;01mtry\u001b[39;00m:\n\u001b[0;32m--> 125\u001b[0m     result \u001b[38;5;241m=\u001b[39m (\u001b[38;5;28;01mTrue\u001b[39;00m, \u001b[43mfunc\u001b[49m\u001b[43m(\u001b[49m\u001b[38;5;241;43m*\u001b[39;49m\u001b[43margs\u001b[49m\u001b[43m,\u001b[49m\u001b[43m \u001b[49m\u001b[38;5;241;43m*\u001b[39;49m\u001b[38;5;241;43m*\u001b[39;49m\u001b[43mkwds\u001b[49m\u001b[43m)\u001b[49m)\n\u001b[1;32m    126\u001b[0m \u001b[38;5;28;01mexcept\u001b[39;00m \u001b[38;5;167;01mException\u001b[39;00m \u001b[38;5;28;01mas\u001b[39;00m e:\n\u001b[1;32m    127\u001b[0m     \u001b[38;5;28;01mif\u001b[39;00m wrap_exception \u001b[38;5;129;01mand\u001b[39;00m func \u001b[38;5;129;01mis\u001b[39;00m \u001b[38;5;129;01mnot\u001b[39;00m _helper_reraises_exception:\n",
      "File \u001b[0;32m/opt/anaconda3/lib/python3.9/site-packages/pyspark/ml/tuning.py:1464\u001b[0m, in \u001b[0;36mTrainValidationSplit._fit.<locals>.<lambda>\u001b[0;34m(f)\u001b[0m\n\u001b[1;32m   1462\u001b[0m pool \u001b[38;5;241m=\u001b[39m ThreadPool(processes\u001b[38;5;241m=\u001b[39m\u001b[38;5;28mmin\u001b[39m(\u001b[38;5;28mself\u001b[39m\u001b[38;5;241m.\u001b[39mgetParallelism(), numModels))\n\u001b[1;32m   1463\u001b[0m metrics \u001b[38;5;241m=\u001b[39m [\u001b[38;5;28;01mNone\u001b[39;00m] \u001b[38;5;241m*\u001b[39m numModels\n\u001b[0;32m-> 1464\u001b[0m \u001b[38;5;28;01mfor\u001b[39;00m j, metric, subModel \u001b[38;5;129;01min\u001b[39;00m pool\u001b[38;5;241m.\u001b[39mimap_unordered(\u001b[38;5;28;01mlambda\u001b[39;00m f: \u001b[43mf\u001b[49m\u001b[43m(\u001b[49m\u001b[43m)\u001b[49m, tasks):\n\u001b[1;32m   1465\u001b[0m     metrics[j] \u001b[38;5;241m=\u001b[39m metric\n\u001b[1;32m   1466\u001b[0m     \u001b[38;5;28;01mif\u001b[39;00m collectSubModelsParam:\n",
      "File \u001b[0;32m/opt/anaconda3/lib/python3.9/site-packages/pyspark/util.py:337\u001b[0m, in \u001b[0;36minheritable_thread_target.<locals>.wrapped\u001b[0;34m(*args, **kwargs)\u001b[0m\n\u001b[1;32m    335\u001b[0m \u001b[38;5;28;01massert\u001b[39;00m SparkContext\u001b[38;5;241m.\u001b[39m_active_spark_context \u001b[38;5;129;01mis\u001b[39;00m \u001b[38;5;129;01mnot\u001b[39;00m \u001b[38;5;28;01mNone\u001b[39;00m\n\u001b[1;32m    336\u001b[0m SparkContext\u001b[38;5;241m.\u001b[39m_active_spark_context\u001b[38;5;241m.\u001b[39m_jsc\u001b[38;5;241m.\u001b[39msc()\u001b[38;5;241m.\u001b[39msetLocalProperties(properties)\n\u001b[0;32m--> 337\u001b[0m \u001b[38;5;28;01mreturn\u001b[39;00m \u001b[43mf\u001b[49m\u001b[43m(\u001b[49m\u001b[38;5;241;43m*\u001b[39;49m\u001b[43margs\u001b[49m\u001b[43m,\u001b[49m\u001b[43m \u001b[49m\u001b[38;5;241;43m*\u001b[39;49m\u001b[38;5;241;43m*\u001b[39;49m\u001b[43mkwargs\u001b[49m\u001b[43m)\u001b[49m\n",
      "File \u001b[0;32m/opt/anaconda3/lib/python3.9/site-packages/pyspark/ml/tuning.py:113\u001b[0m, in \u001b[0;36m_parallelFitTasks.<locals>.singleTask\u001b[0;34m()\u001b[0m\n\u001b[1;32m    112\u001b[0m \u001b[38;5;28;01mdef\u001b[39;00m \u001b[38;5;21msingleTask\u001b[39m() \u001b[38;5;241m-\u001b[39m\u001b[38;5;241m>\u001b[39m Tuple[\u001b[38;5;28mint\u001b[39m, \u001b[38;5;28mfloat\u001b[39m, Transformer]:\n\u001b[0;32m--> 113\u001b[0m     index, model \u001b[38;5;241m=\u001b[39m \u001b[38;5;28;43mnext\u001b[39;49m\u001b[43m(\u001b[49m\u001b[43mmodelIter\u001b[49m\u001b[43m)\u001b[49m\n\u001b[1;32m    114\u001b[0m     \u001b[38;5;66;03m# TODO: duplicate evaluator to take extra params from input\u001b[39;00m\n\u001b[1;32m    115\u001b[0m     \u001b[38;5;66;03m#  Note: Supporting tuning params in evaluator need update method\u001b[39;00m\n\u001b[1;32m    116\u001b[0m     \u001b[38;5;66;03m#  `MetaAlgorithmReadWrite.getAllNestedStages`, make it return\u001b[39;00m\n\u001b[1;32m    117\u001b[0m     \u001b[38;5;66;03m#  all nested stages and evaluators\u001b[39;00m\n\u001b[1;32m    118\u001b[0m     metric \u001b[38;5;241m=\u001b[39m eva\u001b[38;5;241m.\u001b[39mevaluate(model\u001b[38;5;241m.\u001b[39mtransform(validation, epm[index]))\n",
      "File \u001b[0;32m/opt/anaconda3/lib/python3.9/site-packages/pyspark/ml/base.py:98\u001b[0m, in \u001b[0;36m_FitMultipleIterator.__next__\u001b[0;34m(self)\u001b[0m\n\u001b[1;32m     96\u001b[0m         \u001b[38;5;28;01mraise\u001b[39;00m \u001b[38;5;167;01mStopIteration\u001b[39;00m(\u001b[38;5;124m\"\u001b[39m\u001b[38;5;124mNo models remaining.\u001b[39m\u001b[38;5;124m\"\u001b[39m)\n\u001b[1;32m     97\u001b[0m     \u001b[38;5;28mself\u001b[39m\u001b[38;5;241m.\u001b[39mcounter \u001b[38;5;241m+\u001b[39m\u001b[38;5;241m=\u001b[39m \u001b[38;5;241m1\u001b[39m\n\u001b[0;32m---> 98\u001b[0m \u001b[38;5;28;01mreturn\u001b[39;00m index, \u001b[38;5;28;43mself\u001b[39;49m\u001b[38;5;241;43m.\u001b[39;49m\u001b[43mfitSingleModel\u001b[49m\u001b[43m(\u001b[49m\u001b[43mindex\u001b[49m\u001b[43m)\u001b[49m\n",
      "File \u001b[0;32m/opt/anaconda3/lib/python3.9/site-packages/pyspark/ml/base.py:156\u001b[0m, in \u001b[0;36mEstimator.fitMultiple.<locals>.fitSingleModel\u001b[0;34m(index)\u001b[0m\n\u001b[1;32m    155\u001b[0m \u001b[38;5;28;01mdef\u001b[39;00m \u001b[38;5;21mfitSingleModel\u001b[39m(index: \u001b[38;5;28mint\u001b[39m) \u001b[38;5;241m-\u001b[39m\u001b[38;5;241m>\u001b[39m M:\n\u001b[0;32m--> 156\u001b[0m     \u001b[38;5;28;01mreturn\u001b[39;00m \u001b[43mestimator\u001b[49m\u001b[38;5;241;43m.\u001b[39;49m\u001b[43mfit\u001b[49m\u001b[43m(\u001b[49m\u001b[43mdataset\u001b[49m\u001b[43m,\u001b[49m\u001b[43m \u001b[49m\u001b[43mparamMaps\u001b[49m\u001b[43m[\u001b[49m\u001b[43mindex\u001b[49m\u001b[43m]\u001b[49m\u001b[43m)\u001b[49m\n",
      "File \u001b[0;32m/opt/anaconda3/lib/python3.9/site-packages/pyspark/ml/base.py:203\u001b[0m, in \u001b[0;36mEstimator.fit\u001b[0;34m(self, dataset, params)\u001b[0m\n\u001b[1;32m    201\u001b[0m \u001b[38;5;28;01melif\u001b[39;00m \u001b[38;5;28misinstance\u001b[39m(params, \u001b[38;5;28mdict\u001b[39m):\n\u001b[1;32m    202\u001b[0m     \u001b[38;5;28;01mif\u001b[39;00m params:\n\u001b[0;32m--> 203\u001b[0m         \u001b[38;5;28;01mreturn\u001b[39;00m \u001b[38;5;28;43mself\u001b[39;49m\u001b[38;5;241;43m.\u001b[39;49m\u001b[43mcopy\u001b[49m\u001b[43m(\u001b[49m\u001b[43mparams\u001b[49m\u001b[43m)\u001b[49m\u001b[38;5;241;43m.\u001b[39;49m\u001b[43m_fit\u001b[49m\u001b[43m(\u001b[49m\u001b[43mdataset\u001b[49m\u001b[43m)\u001b[49m\n\u001b[1;32m    204\u001b[0m     \u001b[38;5;28;01melse\u001b[39;00m:\n\u001b[1;32m    205\u001b[0m         \u001b[38;5;28;01mreturn\u001b[39;00m \u001b[38;5;28mself\u001b[39m\u001b[38;5;241m.\u001b[39m_fit(dataset)\n",
      "File \u001b[0;32m/opt/anaconda3/lib/python3.9/site-packages/pyspark/ml/wrapper.py:379\u001b[0m, in \u001b[0;36mJavaEstimator._fit\u001b[0;34m(self, dataset)\u001b[0m\n\u001b[1;32m    378\u001b[0m \u001b[38;5;28;01mdef\u001b[39;00m \u001b[38;5;21m_fit\u001b[39m(\u001b[38;5;28mself\u001b[39m, dataset: DataFrame) \u001b[38;5;241m-\u001b[39m\u001b[38;5;241m>\u001b[39m JM:\n\u001b[0;32m--> 379\u001b[0m     java_model \u001b[38;5;241m=\u001b[39m \u001b[38;5;28;43mself\u001b[39;49m\u001b[38;5;241;43m.\u001b[39;49m\u001b[43m_fit_java\u001b[49m\u001b[43m(\u001b[49m\u001b[43mdataset\u001b[49m\u001b[43m)\u001b[49m\n\u001b[1;32m    380\u001b[0m     model \u001b[38;5;241m=\u001b[39m \u001b[38;5;28mself\u001b[39m\u001b[38;5;241m.\u001b[39m_create_model(java_model)\n\u001b[1;32m    381\u001b[0m     \u001b[38;5;28;01mreturn\u001b[39;00m \u001b[38;5;28mself\u001b[39m\u001b[38;5;241m.\u001b[39m_copyValues(model)\n",
      "File \u001b[0;32m/opt/anaconda3/lib/python3.9/site-packages/pyspark/ml/wrapper.py:376\u001b[0m, in \u001b[0;36mJavaEstimator._fit_java\u001b[0;34m(self, dataset)\u001b[0m\n\u001b[1;32m    373\u001b[0m \u001b[38;5;28;01massert\u001b[39;00m \u001b[38;5;28mself\u001b[39m\u001b[38;5;241m.\u001b[39m_java_obj \u001b[38;5;129;01mis\u001b[39;00m \u001b[38;5;129;01mnot\u001b[39;00m \u001b[38;5;28;01mNone\u001b[39;00m\n\u001b[1;32m    375\u001b[0m \u001b[38;5;28mself\u001b[39m\u001b[38;5;241m.\u001b[39m_transfer_params_to_java()\n\u001b[0;32m--> 376\u001b[0m \u001b[38;5;28;01mreturn\u001b[39;00m \u001b[38;5;28;43mself\u001b[39;49m\u001b[38;5;241;43m.\u001b[39;49m\u001b[43m_java_obj\u001b[49m\u001b[38;5;241;43m.\u001b[39;49m\u001b[43mfit\u001b[49m\u001b[43m(\u001b[49m\u001b[43mdataset\u001b[49m\u001b[38;5;241;43m.\u001b[39;49m\u001b[43m_jdf\u001b[49m\u001b[43m)\u001b[49m\n",
      "File \u001b[0;32m/opt/anaconda3/lib/python3.9/site-packages/py4j/java_gateway.py:1321\u001b[0m, in \u001b[0;36mJavaMember.__call__\u001b[0;34m(self, *args)\u001b[0m\n\u001b[1;32m   1315\u001b[0m command \u001b[38;5;241m=\u001b[39m proto\u001b[38;5;241m.\u001b[39mCALL_COMMAND_NAME \u001b[38;5;241m+\u001b[39m\\\n\u001b[1;32m   1316\u001b[0m     \u001b[38;5;28mself\u001b[39m\u001b[38;5;241m.\u001b[39mcommand_header \u001b[38;5;241m+\u001b[39m\\\n\u001b[1;32m   1317\u001b[0m     args_command \u001b[38;5;241m+\u001b[39m\\\n\u001b[1;32m   1318\u001b[0m     proto\u001b[38;5;241m.\u001b[39mEND_COMMAND_PART\n\u001b[1;32m   1320\u001b[0m answer \u001b[38;5;241m=\u001b[39m \u001b[38;5;28mself\u001b[39m\u001b[38;5;241m.\u001b[39mgateway_client\u001b[38;5;241m.\u001b[39msend_command(command)\n\u001b[0;32m-> 1321\u001b[0m return_value \u001b[38;5;241m=\u001b[39m \u001b[43mget_return_value\u001b[49m\u001b[43m(\u001b[49m\n\u001b[1;32m   1322\u001b[0m \u001b[43m    \u001b[49m\u001b[43manswer\u001b[49m\u001b[43m,\u001b[49m\u001b[43m \u001b[49m\u001b[38;5;28;43mself\u001b[39;49m\u001b[38;5;241;43m.\u001b[39;49m\u001b[43mgateway_client\u001b[49m\u001b[43m,\u001b[49m\u001b[43m \u001b[49m\u001b[38;5;28;43mself\u001b[39;49m\u001b[38;5;241;43m.\u001b[39;49m\u001b[43mtarget_id\u001b[49m\u001b[43m,\u001b[49m\u001b[43m \u001b[49m\u001b[38;5;28;43mself\u001b[39;49m\u001b[38;5;241;43m.\u001b[39;49m\u001b[43mname\u001b[49m\u001b[43m)\u001b[49m\n\u001b[1;32m   1324\u001b[0m \u001b[38;5;28;01mfor\u001b[39;00m temp_arg \u001b[38;5;129;01min\u001b[39;00m temp_args:\n\u001b[1;32m   1325\u001b[0m     temp_arg\u001b[38;5;241m.\u001b[39m_detach()\n",
      "File \u001b[0;32m/opt/anaconda3/lib/python3.9/site-packages/pyspark/sql/utils.py:196\u001b[0m, in \u001b[0;36mcapture_sql_exception.<locals>.deco\u001b[0;34m(*a, **kw)\u001b[0m\n\u001b[1;32m    192\u001b[0m converted \u001b[38;5;241m=\u001b[39m convert_exception(e\u001b[38;5;241m.\u001b[39mjava_exception)\n\u001b[1;32m    193\u001b[0m \u001b[38;5;28;01mif\u001b[39;00m \u001b[38;5;129;01mnot\u001b[39;00m \u001b[38;5;28misinstance\u001b[39m(converted, UnknownException):\n\u001b[1;32m    194\u001b[0m     \u001b[38;5;66;03m# Hide where the exception came from that shows a non-Pythonic\u001b[39;00m\n\u001b[1;32m    195\u001b[0m     \u001b[38;5;66;03m# JVM exception message.\u001b[39;00m\n\u001b[0;32m--> 196\u001b[0m     \u001b[38;5;28;01mraise\u001b[39;00m converted \u001b[38;5;28;01mfrom\u001b[39;00m \u001b[38;5;28mNone\u001b[39m\n\u001b[1;32m    197\u001b[0m \u001b[38;5;28;01melse\u001b[39;00m:\n\u001b[1;32m    198\u001b[0m     \u001b[38;5;28;01mraise\u001b[39;00m\n",
      "\u001b[0;31mIllegalArgumentException\u001b[0m: features does not exist. Available: Season, Date_Code, Weekending, Region, Respiratory_Virus, Number_Positive, Specimens_Tested, Percent_Positive, TrainValidationSplit_4ca4538f0e5f_rand"
     ]
    }
   ],
   "source": [
    "# Run TrainValidationSplit, and choose the best set of parameters.\n",
    "model = tvs.fit(train)"
   ]
  },
  {
   "cell_type": "markdown",
   "id": "e1ced685",
   "metadata": {},
   "source": [
    "#### References:\n",
    "- https://spark.apache.org/docs/latest/ml-pipeline.html#main-concepts-in-pipelines"
   ]
  },
  {
   "cell_type": "code",
   "execution_count": 1,
   "id": "0a7e74b6",
   "metadata": {},
   "outputs": [
    {
     "name": "stdout",
     "output_type": "stream",
     "text": [
      "Requirement already satisfied: scikit-learn in /opt/anaconda3/lib/python3.9/site-packages (1.0.2)\n",
      "Collecting scikit-learn\n",
      "  Downloading scikit_learn-1.2.2-cp39-cp39-macosx_10_9_x86_64.whl (9.1 MB)\n",
      "\u001b[2K     \u001b[90m━━━━━━━━━━━━━━━━━━━━━━━━━━━━━━━━━━━━━━━━\u001b[0m \u001b[32m9.1/9.1 MB\u001b[0m \u001b[31m16.7 MB/s\u001b[0m eta \u001b[36m0:00:00\u001b[0m00:01\u001b[0m00:01\u001b[0m\n",
      "\u001b[?25hRequirement already satisfied: numpy>=1.17.3 in /opt/anaconda3/lib/python3.9/site-packages (from scikit-learn) (1.21.5)\n",
      "Requirement already satisfied: scipy>=1.3.2 in /opt/anaconda3/lib/python3.9/site-packages (from scikit-learn) (1.7.3)\n",
      "Requirement already satisfied: joblib>=1.1.1 in /opt/anaconda3/lib/python3.9/site-packages (from scikit-learn) (1.1.1)\n",
      "Requirement already satisfied: threadpoolctl>=2.0.0 in /opt/anaconda3/lib/python3.9/site-packages (from scikit-learn) (2.2.0)\n",
      "Installing collected packages: scikit-learn\n",
      "  Attempting uninstall: scikit-learn\n",
      "    Found existing installation: scikit-learn 1.0.2\n",
      "    Uninstalling scikit-learn-1.0.2:\n",
      "      Successfully uninstalled scikit-learn-1.0.2\n",
      "Successfully installed scikit-learn-1.2.2\n"
     ]
    }
   ],
   "source": [
    "!pip install -U scikit-learn"
   ]
  },
  {
   "cell_type": "code",
   "execution_count": 2,
   "id": "a0f05638",
   "metadata": {},
   "outputs": [],
   "source": [
    "from sklearn.ensemble import RandomForestClassifier"
   ]
  },
  {
   "cell_type": "code",
   "execution_count": 3,
   "id": "bf8a1eef",
   "metadata": {},
   "outputs": [],
   "source": [
    "clf = RandomForestClassifier(random_state=0)"
   ]
  },
  {
   "cell_type": "code",
   "execution_count": 7,
   "id": "c6185340",
   "metadata": {},
   "outputs": [],
   "source": [
    "X = [[ 1,  2,  3],[11, 12, 13]]\n",
    "Y=[0,1]"
   ]
  },
  {
   "cell_type": "code",
   "execution_count": 8,
   "id": "3f047819",
   "metadata": {},
   "outputs": [
    {
     "data": {
      "text/plain": [
       "[[1, 2, 3], [11, 12, 13]]"
      ]
     },
     "execution_count": 8,
     "metadata": {},
     "output_type": "execute_result"
    }
   ],
   "source": [
    "X"
   ]
  },
  {
   "cell_type": "code",
   "execution_count": 9,
   "id": "c7a843c9",
   "metadata": {},
   "outputs": [
    {
     "data": {
      "text/html": [
       "<style>#sk-container-id-1 {color: black;background-color: white;}#sk-container-id-1 pre{padding: 0;}#sk-container-id-1 div.sk-toggleable {background-color: white;}#sk-container-id-1 label.sk-toggleable__label {cursor: pointer;display: block;width: 100%;margin-bottom: 0;padding: 0.3em;box-sizing: border-box;text-align: center;}#sk-container-id-1 label.sk-toggleable__label-arrow:before {content: \"▸\";float: left;margin-right: 0.25em;color: #696969;}#sk-container-id-1 label.sk-toggleable__label-arrow:hover:before {color: black;}#sk-container-id-1 div.sk-estimator:hover label.sk-toggleable__label-arrow:before {color: black;}#sk-container-id-1 div.sk-toggleable__content {max-height: 0;max-width: 0;overflow: hidden;text-align: left;background-color: #f0f8ff;}#sk-container-id-1 div.sk-toggleable__content pre {margin: 0.2em;color: black;border-radius: 0.25em;background-color: #f0f8ff;}#sk-container-id-1 input.sk-toggleable__control:checked~div.sk-toggleable__content {max-height: 200px;max-width: 100%;overflow: auto;}#sk-container-id-1 input.sk-toggleable__control:checked~label.sk-toggleable__label-arrow:before {content: \"▾\";}#sk-container-id-1 div.sk-estimator input.sk-toggleable__control:checked~label.sk-toggleable__label {background-color: #d4ebff;}#sk-container-id-1 div.sk-label input.sk-toggleable__control:checked~label.sk-toggleable__label {background-color: #d4ebff;}#sk-container-id-1 input.sk-hidden--visually {border: 0;clip: rect(1px 1px 1px 1px);clip: rect(1px, 1px, 1px, 1px);height: 1px;margin: -1px;overflow: hidden;padding: 0;position: absolute;width: 1px;}#sk-container-id-1 div.sk-estimator {font-family: monospace;background-color: #f0f8ff;border: 1px dotted black;border-radius: 0.25em;box-sizing: border-box;margin-bottom: 0.5em;}#sk-container-id-1 div.sk-estimator:hover {background-color: #d4ebff;}#sk-container-id-1 div.sk-parallel-item::after {content: \"\";width: 100%;border-bottom: 1px solid gray;flex-grow: 1;}#sk-container-id-1 div.sk-label:hover label.sk-toggleable__label {background-color: #d4ebff;}#sk-container-id-1 div.sk-serial::before {content: \"\";position: absolute;border-left: 1px solid gray;box-sizing: border-box;top: 0;bottom: 0;left: 50%;z-index: 0;}#sk-container-id-1 div.sk-serial {display: flex;flex-direction: column;align-items: center;background-color: white;padding-right: 0.2em;padding-left: 0.2em;position: relative;}#sk-container-id-1 div.sk-item {position: relative;z-index: 1;}#sk-container-id-1 div.sk-parallel {display: flex;align-items: stretch;justify-content: center;background-color: white;position: relative;}#sk-container-id-1 div.sk-item::before, #sk-container-id-1 div.sk-parallel-item::before {content: \"\";position: absolute;border-left: 1px solid gray;box-sizing: border-box;top: 0;bottom: 0;left: 50%;z-index: -1;}#sk-container-id-1 div.sk-parallel-item {display: flex;flex-direction: column;z-index: 1;position: relative;background-color: white;}#sk-container-id-1 div.sk-parallel-item:first-child::after {align-self: flex-end;width: 50%;}#sk-container-id-1 div.sk-parallel-item:last-child::after {align-self: flex-start;width: 50%;}#sk-container-id-1 div.sk-parallel-item:only-child::after {width: 0;}#sk-container-id-1 div.sk-dashed-wrapped {border: 1px dashed gray;margin: 0 0.4em 0.5em 0.4em;box-sizing: border-box;padding-bottom: 0.4em;background-color: white;}#sk-container-id-1 div.sk-label label {font-family: monospace;font-weight: bold;display: inline-block;line-height: 1.2em;}#sk-container-id-1 div.sk-label-container {text-align: center;}#sk-container-id-1 div.sk-container {/* jupyter's `normalize.less` sets `[hidden] { display: none; }` but bootstrap.min.css set `[hidden] { display: none !important; }` so we also need the `!important` here to be able to override the default hidden behavior on the sphinx rendered scikit-learn.org. See: https://github.com/scikit-learn/scikit-learn/issues/21755 */display: inline-block !important;position: relative;}#sk-container-id-1 div.sk-text-repr-fallback {display: none;}</style><div id=\"sk-container-id-1\" class=\"sk-top-container\"><div class=\"sk-text-repr-fallback\"><pre>RandomForestClassifier(random_state=0)</pre><b>In a Jupyter environment, please rerun this cell to show the HTML representation or trust the notebook. <br />On GitHub, the HTML representation is unable to render, please try loading this page with nbviewer.org.</b></div><div class=\"sk-container\" hidden><div class=\"sk-item\"><div class=\"sk-estimator sk-toggleable\"><input class=\"sk-toggleable__control sk-hidden--visually\" id=\"sk-estimator-id-1\" type=\"checkbox\" checked><label for=\"sk-estimator-id-1\" class=\"sk-toggleable__label sk-toggleable__label-arrow\">RandomForestClassifier</label><div class=\"sk-toggleable__content\"><pre>RandomForestClassifier(random_state=0)</pre></div></div></div></div></div>"
      ],
      "text/plain": [
       "RandomForestClassifier(random_state=0)"
      ]
     },
     "execution_count": 9,
     "metadata": {},
     "output_type": "execute_result"
    }
   ],
   "source": [
    "clf.fit(X,Y)"
   ]
  },
  {
   "cell_type": "code",
   "execution_count": 11,
   "id": "9de29f0c",
   "metadata": {},
   "outputs": [
    {
     "data": {
      "text/plain": [
       "array([0, 1])"
      ]
     },
     "execution_count": 11,
     "metadata": {},
     "output_type": "execute_result"
    }
   ],
   "source": [
    "clf.predict(X)"
   ]
  },
  {
   "cell_type": "code",
   "execution_count": null,
   "id": "0825f471",
   "metadata": {},
   "outputs": [],
   "source": []
  }
 ],
 "metadata": {
  "kernelspec": {
   "display_name": "Python 3 (ipykernel)",
   "language": "python",
   "name": "python3"
  },
  "language_info": {
   "codemirror_mode": {
    "name": "ipython",
    "version": 3
   },
   "file_extension": ".py",
   "mimetype": "text/x-python",
   "name": "python",
   "nbconvert_exporter": "python",
   "pygments_lexer": "ipython3",
   "version": "3.9.7"
  }
 },
 "nbformat": 4,
 "nbformat_minor": 5
}
